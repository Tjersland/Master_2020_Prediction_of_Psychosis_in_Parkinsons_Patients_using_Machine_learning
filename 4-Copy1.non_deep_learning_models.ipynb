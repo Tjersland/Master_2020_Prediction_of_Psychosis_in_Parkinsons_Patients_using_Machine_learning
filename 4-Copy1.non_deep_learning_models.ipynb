{
 "cells": [
  {
   "cell_type": "markdown",
   "metadata": {},
   "source": [
    "# Non deep learning models"
   ]
  },
  {
   "cell_type": "markdown",
   "metadata": {},
   "source": [
    "### Todo\n",
    "\n",
    "Add and tune a simple model in order to see if our more complex models are worth it. Reference model # DONE\n",
    "\n",
    "Tune our complex models\n",
    "\n",
    "Try PCA/Auto encoder approaches\n",
    "\n",
    "Informal test of mean/mode vs heterogeneous\n",
    "\n",
    "deal with 0 slope scenarios"
   ]
  },
  {
   "cell_type": "markdown",
   "metadata": {},
   "source": [
    "#### This cell is for defining various OPTIONS used for this notebook (working directory, how many rows and columns pandas displays for a dataframe, etc). \n",
    "\n",
    "#### Preferably this cell is also where we do important imports (for example pandas and numpy)"
   ]
  },
  {
   "cell_type": "code",
   "execution_count": 1,
   "metadata": {},
   "outputs": [],
   "source": [
    "import os \n",
    "#Input the directory where your joined_data.csv is located \n",
    "#os.chdir('C:/Users/Trond/Documents/Master 2020/Processed data')\n",
    "os.chdir('C:/Users/Briggstone/Documents/Master 2020/Processed data')\n",
    "#os.chdir('C:/Users/MyPC/Documents/Andrijana/UiS/DATMAS Master oppgave/Processed data')\n",
    "\n",
    "#Where you want the csv file of the merged data to be placed\n",
    "output_filepath = 'C:/Users/Briggstone/Documents/Master 2020/Processed data'\n",
    "#output_filepath = 'C:/Users/MyPC/Documents/Andrijana/UiS/DATMAS Master oppgave/Processed data'\n",
    "\n",
    "from matplotlib import pyplot\n",
    "import pandas as pd \n",
    "import numpy as np\n",
    "import xgboost as xgb\n",
    "from xgboost.sklearn import XGBClassifier\n",
    "from sklearn.model_selection import train_test_split\n",
    "from sklearn.model_selection import cross_val_score\n",
    "from sklearn.model_selection import cross_validate\n",
    "from sklearn import metrics as met\n",
    "from sklearn import svm\n",
    "from sklearn.model_selection import RandomizedSearchCV\n",
    "from scipy import stats\n",
    "\n",
    "# Set ipython's max row display\n",
    "pd.set_option('display.max_row', 1000)\n",
    "\n",
    "# Set iPython's max column width to 50\n",
    "pd.set_option('display.max_columns', 50)\n",
    "\n",
    "#Here we set a seed so that our random search produce the same result \n",
    "np.random.seed(31415)\n",
    "\n",
    "# Here we create a scoring dictionary which defines the metrics we report on in cross validation\n",
    "scoring = {\n",
    "    'accuracy': met.make_scorer(met.accuracy_score),\n",
    "    'precision': met.make_scorer(met.precision_score),\n",
    "    'sensitivity': met.make_scorer(met.recall_score),\n",
    "    'specificity': met.make_scorer(met.recall_score,pos_label = 0),\n",
    "    'f1': met.make_scorer(met.f1_score),\n",
    "    'roc_auc': met.make_scorer(met.roc_auc_score)\n",
    "}\n",
    "\n",
    "# This is the metric we seek to optimise through tuning\n",
    "refit = {'sensitivity': met.make_scorer(met.recall_score)}\n"
   ]
  },
  {
   "cell_type": "markdown",
   "metadata": {},
   "source": [
    "#### In this cell we import our training data, convert HALL into HALL_EVER and select only BL observations."
   ]
  },
  {
   "cell_type": "code",
   "execution_count": 2,
   "metadata": {},
   "outputs": [
    {
     "name": "stdout",
     "output_type": "stream",
     "text": [
      "(The number of subjects, number of features) in training set (283, 85)\n",
      "Number of patients which hallucinates eventually in training set is  65.0  which is  0.22968197879858657  percent of patients\n"
     ]
    }
   ],
   "source": [
    "train = pd.read_csv('train.csv')\n",
    "\n",
    "# We drop PATNO\n",
    "train.drop([\"PATNO\"], axis = 1, inplace = True)\n",
    "# We form Y\n",
    "Y = train.pop(\"HALL\")\n",
    "\n",
    "print(\"(The number of subjects, number of features) in training set\", train.shape)\n",
    "print(\"Number of patients which hallucinates eventually in training set is \",  sum(Y), \" which is \", sum(Y)/ (Y.size), \" percent of patients\")\n",
    "\n",
    "#Important for xgboost class weight balancing\n",
    "num_pos_samples = sum(Y)\n",
    "num_neg_samples = Y.size - num_pos_samples\n",
    "pos_weights_scale = num_neg_samples / num_pos_samples"
   ]
  },
  {
   "cell_type": "code",
   "execution_count": 3,
   "metadata": {},
   "outputs": [],
   "source": [
    "import imblearn as imbl\n",
    "\n",
    "def over_sampling(model, X):\n",
    "    \n",
    "    column_types = pd.read_csv(\"Column_Data_Types_Final.csv\")\n",
    "    categorical_columns = column_types.loc[(column_types.DATA_TYPE == \"Categorical\") | (column_types.DATA_TYPE == \"Ordinal\") , \"COLUMN_NAME\"].values\n",
    "    categorical_columns = list(set(categorical_columns).intersection(set(X.columns)))\n",
    "    categorical_columns = [X.columns.get_loc(c) for c in categorical_columns if c in X]\n",
    "\n",
    "    pipeline = imbl.pipeline.make_pipeline(imbl.over_sampling.SMOTENC(categorical_columns, sampling_strategy = 1),\n",
    "                                          model)\n",
    "    \n",
    "    return pipeline"
   ]
  },
  {
   "cell_type": "markdown",
   "metadata": {},
   "source": [
    "#### In this cell we define general functions for hyperparameter tuning and cross validation using sklearn functions"
   ]
  },
  {
   "cell_type": "code",
   "execution_count": 4,
   "metadata": {},
   "outputs": [],
   "source": [
    "'''\n",
    "metrics from sklearn that we can put into scoring variable:\n",
    "‘accuracy’\n",
    "‘balanced_accuracy’\n",
    "‘average_precision’\n",
    "‘neg_brier_score’\n",
    "‘f1’\n",
    "‘neg_log_loss’\n",
    "‘precision’ etc.\n",
    "‘recall’ etc.\n",
    "‘jaccard’ etc.\n",
    "‘roc_auc’\n",
    "'''\n",
    "def randomized_tuning (X,Y, model, param_dist, k_folds, n_iter, scoring_metrics, scoring_refit, over_sample = False):\n",
    "    '''\n",
    "    model should be a XGBClassifier or sklearn classifier \n",
    "    param_dist can look like this, remember that it a randomized search through distributions, not a grid search:\n",
    "    param_dist = {'n_estimators': stats.randint(150, 500),\n",
    "              'learning_rate': stats.uniform(0.01, 0.07),\n",
    "              'subsample': stats.uniform(0.3, 0.7),\n",
    "              'max_depth': [3, 4, 5, 6, 7, 8, 9],\n",
    "              'colsample_bytree': stats.uniform(0.5, 0.45),\n",
    "              'min_child_weight': [1, 2, 3]\n",
    "             }\n",
    "    k_folds = number of folds in CV\n",
    "    n_iter = number of different random combination of parameters tried. More iterations gives a higher chance of finding the best parameters\n",
    "    scoring metrics = the metrics the search wil report on a the end, example: ['roc_auc', 'f1']\n",
    "    scoring_refit = The single metric that will be used to find a \"best estimator\" at the end,  pick one metric from your scoring metrics list. e.g \"f1\" or \n",
    "    set to False if manually finding best estimator\n",
    "    '''\n",
    "    if over_sample == True:\n",
    "        model= over_sampling(model, X)\n",
    "    \n",
    "    clf = RandomizedSearchCV(model, param_distributions = param_dist, cv = k_folds, n_iter = n_iter, scoring = scoring_metrics, refit = scoring_refit, \\\n",
    "                             error_score = 0, verbose = 1, n_jobs = 4, return_train_score = True)\n",
    "    '''\n",
    "    If scoring_refit is set you can get the best params on that metric by return.best_params_\n",
    "    Manual inspection can be done by pd.DataFrame(return.cv_results_)\n",
    "    '''\n",
    "    return clf.fit(X,Y)\n",
    "\n",
    "\n",
    "def CV_report (model, X, Y, k_folds, scoring, over_sample = False):\n",
    "    \n",
    "    if over_sample == True:\n",
    "        model= over_sampling(model, X)\n",
    "        \n",
    "    cv_results = cross_validate(model, X, Y, cv= k_folds, scoring= scoring, n_jobs = 4,  verbose = 1, return_train_score = True)\n",
    "    \n",
    "    df = pd.DataFrame(columns = [\"Metric\", \"Train mean\", \"Train SD\", \"Test mean\", \"Test SD\"])\n",
    "    rows_list = []\n",
    "    for x in scoring:\n",
    "        score_dict = {}\n",
    "        score_dict[\"Metric\"] = x\n",
    "        score_dict[\"Train mean\"] = np.mean(cv_results[\"train_\" + x])\n",
    "        score_dict[\"Train SD\"] = np.std(cv_results[\"train_\" + x])\n",
    "        score_dict[\"Test mean\"] = np.mean(cv_results[\"test_\" + x])\n",
    "        score_dict[\"Test SD\"] = np.std(cv_results[\"test_\" + x])  \n",
    "        rows_list.append(score_dict)\n",
    "      \n",
    "    print(df.append(pd.DataFrame(rows_list), sort = False))"
   ]
  },
  {
   "cell_type": "markdown",
   "metadata": {},
   "source": [
    "#### In this cell we apply logistic regression from sklearn as our simple comparison model "
   ]
  },
  {
   "cell_type": "code",
   "execution_count": 5,
   "metadata": {},
   "outputs": [
    {
     "name": "stderr",
     "output_type": "stream",
     "text": [
      "[Parallel(n_jobs=4)]: Using backend LokyBackend with 4 concurrent workers.\n",
      "[Parallel(n_jobs=4)]: Done  10 out of  10 | elapsed:    3.9s finished\n",
      "[Parallel(n_jobs=4)]: Using backend LokyBackend with 4 concurrent workers.\n"
     ]
    },
    {
     "name": "stdout",
     "output_type": "stream",
     "text": [
      "        Metric  Train mean  Train SD  Test mean   Test SD\n",
      "0     accuracy    0.842947  0.006694   0.702463  0.099945\n",
      "1    precision    0.613090  0.011807   0.405897  0.162495\n",
      "2  sensitivity    0.858153  0.021494   0.564286  0.234025\n",
      "3  specificity    0.838421  0.008092   0.748268  0.121637\n",
      "4           f1    0.715069  0.011828   0.456347  0.175549\n",
      "5      roc_auc    0.848287  0.010287   0.656277  0.120789\n",
      "Fitting 10 folds for each of 10 candidates, totalling 100 fits\n"
     ]
    },
    {
     "name": "stderr",
     "output_type": "stream",
     "text": [
      "[Parallel(n_jobs=4)]: Done  76 tasks      | elapsed:    4.3s\n",
      "[Parallel(n_jobs=4)]: Done 100 out of 100 | elapsed:    5.5s finished\n",
      "[Parallel(n_jobs=4)]: Using backend LokyBackend with 4 concurrent workers.\n"
     ]
    },
    {
     "name": "stdout",
     "output_type": "stream",
     "text": [
      "        Metric  Train mean  Train SD  Test mean   Test SD\n",
      "0     accuracy    0.872404  0.012628   0.692488  0.045219\n",
      "1    precision    0.665151  0.026719   0.369978  0.074169\n",
      "2  sensitivity    0.899299  0.024115   0.502381  0.188517\n",
      "3  specificity    0.864418  0.015555   0.753030  0.075002\n",
      "4           f1    0.764292  0.019519   0.414053  0.107212\n",
      "5      roc_auc    0.881858  0.013656   0.627706  0.076258\n"
     ]
    },
    {
     "name": "stderr",
     "output_type": "stream",
     "text": [
      "[Parallel(n_jobs=4)]: Done  10 out of  10 | elapsed:    0.5s finished\n"
     ]
    },
    {
     "data": {
      "text/plain": [
       "\"\\nNeed to fix over sample first\\nclf_log = LogisticRegression(solver = 'lbfgs', class_weight = 'balanced', n_jobs = -1)\\nresults = randomized_tuning(train,Y,clf_log, new_param_dist, 10, 10, scoring,'sensitivity', over_sample = True)\\nparams = {key[key.find('_') + 2:]: results.best_params_[key] for key in results.best_params_}\\n\\nclf_log = LogisticRegression(**params,solver = 'lbfgs', class_weight = 'balanced', n_jobs = -1)\\nCV_report(clf_log,train,Y,10,scoring, over_sample = True)\\n\""
      ]
     },
     "execution_count": 5,
     "metadata": {},
     "output_type": "execute_result"
    }
   ],
   "source": [
    "from sklearn.linear_model import LogisticRegression\n",
    "\n",
    "clf_log = LogisticRegression(solver = 'lbfgs', class_weight = 'balanced', n_jobs = 4)\n",
    "\n",
    "CV_report(clf_log, train, Y, 10, scoring)\n",
    "\n",
    "param_dist = { 'C' : stats.uniform(0.01, 10)\n",
    "             }\n",
    "\n",
    "results = randomized_tuning(train,Y,clf_log, param_dist, 10, 10, scoring,'sensitivity')\n",
    "params = results.best_params_\n",
    "\n",
    "clf_log = LogisticRegression(**params,solver = 'lbfgs', class_weight = 'balanced', n_jobs = -1)\n",
    "CV_report(clf_log, train, Y, 10, scoring)\n",
    "\n",
    "'''\n",
    "new_param_dist = {'logisticregression__' + key: param_dist[key] for key in param_dist}\n",
    "\n",
    "Need to fix over sample first\n",
    "clf_log = LogisticRegression(solver = 'lbfgs', class_weight = 'balanced', n_jobs = -1)\n",
    "results = randomized_tuning(train,Y,clf_log, new_param_dist, 10, 10, scoring,'sensitivity', over_sample = True)\n",
    "params = {key[key.find('_') + 2:]: results.best_params_[key] for key in results.best_params_}\n",
    "\n",
    "clf_log = LogisticRegression(**params,solver = 'lbfgs', class_weight = 'balanced', n_jobs = -1)\n",
    "CV_report(clf_log,train,Y,10,scoring, over_sample = True)\n",
    "'''"
   ]
  },
  {
   "cell_type": "markdown",
   "metadata": {},
   "source": [
    "#### In this cell we apply random forest from XGBOOST"
   ]
  },
  {
   "cell_type": "code",
   "execution_count": 6,
   "metadata": {},
   "outputs": [
    {
     "name": "stderr",
     "output_type": "stream",
     "text": [
      "[Parallel(n_jobs=4)]: Using backend LokyBackend with 4 concurrent workers.\n",
      "[Parallel(n_jobs=4)]: Done  10 out of  10 | elapsed:    1.7s finished\n",
      "[Parallel(n_jobs=4)]: Using backend LokyBackend with 4 concurrent workers.\n"
     ]
    },
    {
     "name": "stdout",
     "output_type": "stream",
     "text": [
      "        Metric  Train mean  Train SD  Test mean   Test SD\n",
      "0     accuracy    0.986265  0.008811   0.770443  0.067539\n",
      "1    precision    0.944900  0.033106   0.481999  0.257216\n",
      "2  sensitivity    1.000000  0.000000   0.423810  0.217646\n",
      "3  specificity    0.982156  0.011471   0.876623  0.095567\n",
      "4           f1    0.971368  0.017694   0.431633  0.203148\n",
      "5      roc_auc    0.991078  0.005735   0.650216  0.095722\n",
      "Fitting 10 folds for each of 100 candidates, totalling 1000 fits\n"
     ]
    },
    {
     "name": "stderr",
     "output_type": "stream",
     "text": [
      "[Parallel(n_jobs=4)]: Done  76 tasks      | elapsed:    2.7s\n",
      "[Parallel(n_jobs=4)]: Done 376 tasks      | elapsed:   16.8s\n",
      "[Parallel(n_jobs=4)]: Done 876 tasks      | elapsed:   38.2s\n",
      "[Parallel(n_jobs=4)]: Done 1000 out of 1000 | elapsed:   43.1s finished\n",
      "[Parallel(n_jobs=4)]: Using backend LokyBackend with 4 concurrent workers.\n"
     ]
    },
    {
     "name": "stdout",
     "output_type": "stream",
     "text": [
      "{'colsample_bynode': 0.6777047231212889, 'max_delta_step': 0.23614948198767693, 'max_depth': 3, 'num_parallel_tree': 138, 'subsample': 0.7405039326386993}\n",
      "        Metric  Train mean  Train SD  Test mean   Test SD\n",
      "0     accuracy    0.881423  0.026626   0.748399  0.092171\n",
      "1    precision    0.682551  0.059318   0.522912  0.171783\n",
      "2  sensitivity    0.921391  0.017205   0.588095  0.107037\n",
      "3  specificity    0.869471  0.032397   0.798701  0.137595\n",
      "4           f1    0.782973  0.040878   0.528876  0.091925\n",
      "5      roc_auc    0.895431  0.020917   0.693398  0.055244\n"
     ]
    },
    {
     "name": "stderr",
     "output_type": "stream",
     "text": [
      "[Parallel(n_jobs=4)]: Done  10 out of  10 | elapsed:    0.3s finished\n"
     ]
    },
    {
     "data": {
      "text/plain": [
       "\"\\nNeed to fix over sample first\\nclf_xgb = XGBClassifier(objective = 'binary:logistic', n_estimators = 1, learning_rate = 1)\\n\\nnew_param_dist = {'xgbclassifier__' + key: param_dist[key] for key in param_dist}\\n\\nresults = randomized_tuning(train,Y,clf_xgb, new_param_dist, 10, 10, scoring,'sensitivity', over_sample = True)\\nparams = {key[key.find('_') + 2:]: results.best_params_[key] for key in results.best_params_}\\nprint(params)\\n\\nclf_xgb = XGBClassifier(**params, objective = 'binary:logistic', n_estimators = 1, learning_rate = 1)\\nCV_report(clf_xgb,train,Y,10,scoring, over_sample = True)\\n\""
      ]
     },
     "execution_count": 6,
     "metadata": {},
     "output_type": "execute_result"
    }
   ],
   "source": [
    "dtrain = xgb.DMatrix(train, label = Y)\n",
    "\n",
    "\n",
    "#Random Forest\n",
    "params = {\n",
    "  'colsample_bynode': 0.8,\n",
    "    'n_estimators' : 1,\n",
    "  'learning_rate': 1,\n",
    "  'max_depth': 5,\n",
    "  'num_parallel_tree': 100,\n",
    "  'objective': 'binary:logistic',\n",
    "  'subsample': 0.8,\n",
    "  'scale_pos_weight' : pos_weights_scale\n",
    "}\n",
    "\n",
    "clf_xgb = XGBClassifier(**params)\n",
    "CV_report(clf_xgb, train, Y, 10, scoring)\n",
    "\n",
    "clf_xgb = XGBClassifier(objective = 'binary:logistic', n_estimators = 1, learning_rate = 1, scale_pos_weight = pos_weights_scale)\n",
    "param_dist = { 'colsample_bynode': stats.uniform(0.5, 0.45),\n",
    "              'max_depth': [3, 4, 5, 6, 7, 8, 9],             \n",
    "              'subsample': stats.uniform(0.3, 0.6),\n",
    "              'num_parallel_tree': stats.randint(50,200), \n",
    "              'max_delta_step' : stats.uniform(0,15),\n",
    "             }\n",
    "\n",
    "results = randomized_tuning(train,Y,clf_xgb, param_dist, 10, 100, scoring,'sensitivity')\n",
    "params = results.best_params_\n",
    "print(params)\n",
    "\n",
    "clf_xgb = XGBClassifier(**params, objective = 'binary:logistic', n_estimators = 1, learning_rate = 1, scale_pos_weight = pos_weights_scale)\n",
    "CV_report(clf_xgb, train, Y, 10, scoring)\n",
    "\n",
    "'''\n",
    "Need to fix over sample first\n",
    "clf_xgb = XGBClassifier(objective = 'binary:logistic', n_estimators = 1, learning_rate = 1)\n",
    "\n",
    "new_param_dist = {'xgbclassifier__' + key: param_dist[key] for key in param_dist}\n",
    "\n",
    "results = randomized_tuning(train,Y,clf_xgb, new_param_dist, 10, 10, scoring,'sensitivity', over_sample = True)\n",
    "params = {key[key.find('_') + 2:]: results.best_params_[key] for key in results.best_params_}\n",
    "print(params)\n",
    "\n",
    "clf_xgb = XGBClassifier(**params, objective = 'binary:logistic', n_estimators = 1, learning_rate = 1)\n",
    "CV_report(clf_xgb,train,Y,10,scoring, over_sample = True)\n",
    "'''\n",
    "#model_RF = xgb.train(params, dtrain, num_boost_round=1)\n",
    "#xgb.plot_importance(model_RF)\n",
    "#pyplot.show()"
   ]
  },
  {
   "cell_type": "code",
   "execution_count": 7,
   "metadata": {},
   "outputs": [
    {
     "data": {
      "text/plain": [
       "{'colsample_bynode': 0.6777047231212889,\n",
       " 'max_delta_step': 0.23614948198767693,\n",
       " 'max_depth': 3,\n",
       " 'num_parallel_tree': 138,\n",
       " 'subsample': 0.7405039326386993}"
      ]
     },
     "execution_count": 7,
     "metadata": {},
     "output_type": "execute_result"
    }
   ],
   "source": [
    "results.best_params_"
   ]
  },
  {
   "cell_type": "markdown",
   "metadata": {},
   "source": [
    "#### In this cell we apply boosted treesfrom XGBOOST"
   ]
  },
  {
   "cell_type": "code",
   "execution_count": 8,
   "metadata": {},
   "outputs": [
    {
     "name": "stderr",
     "output_type": "stream",
     "text": [
      "[Parallel(n_jobs=4)]: Using backend LokyBackend with 4 concurrent workers.\n",
      "[Parallel(n_jobs=4)]: Done  10 out of  10 | elapsed:    0.0s finished\n",
      "[Parallel(n_jobs=4)]: Using backend LokyBackend with 4 concurrent workers.\n"
     ]
    },
    {
     "name": "stdout",
     "output_type": "stream",
     "text": [
      "        Metric  Train mean  Train SD  Test mean   Test SD\n",
      "0     accuracy    0.778580  0.029709   0.678941  0.069328\n",
      "1    precision    0.516054  0.045384   0.362347  0.137391\n",
      "2  sensitivity    0.876885  0.050301   0.647619  0.247848\n",
      "3  specificity    0.749244  0.051144   0.687879  0.116814\n",
      "4           f1    0.646733  0.022292   0.458528  0.166663\n",
      "5      roc_auc    0.813064  0.012755   0.667749  0.095510\n",
      "Fitting 10 folds for each of 100 candidates, totalling 1000 fits\n"
     ]
    },
    {
     "name": "stderr",
     "output_type": "stream",
     "text": [
      "[Parallel(n_jobs=4)]: Done  76 tasks      | elapsed:    1.4s\n",
      "[Parallel(n_jobs=4)]: Done 648 tasks      | elapsed:    9.4s\n",
      "[Parallel(n_jobs=4)]: Done 1000 out of 1000 | elapsed:   14.2s finished\n",
      "[Parallel(n_jobs=4)]: Using backend LokyBackend with 4 concurrent workers.\n",
      "[Parallel(n_jobs=4)]: Done  10 out of  10 | elapsed:    0.1s finished\n"
     ]
    },
    {
     "name": "stdout",
     "output_type": "stream",
     "text": [
      "        Metric  Train mean  Train SD  Test mean   Test SD\n",
      "0     accuracy    0.893607  0.013251   0.802094  0.078316\n",
      "1    precision    0.705856  0.026621   0.582180  0.132516\n",
      "2  sensitivity    0.923057  0.025696   0.695238  0.139565\n",
      "3  specificity    0.884800  0.014721   0.835281  0.095289\n",
      "4           f1    0.799672  0.022027   0.621226  0.110548\n",
      "5      roc_auc    0.903928  0.015412   0.765260  0.080948\n",
      "[18:06:49] WARNING: C:\\Users\\Administrator\\workspace\\xgboost-win64_release_1.0.0\\src\\learner.cc:328: \n",
      "Parameters: { n_estimators } might not be used.\n",
      "\n",
      "  This may not be accurate due to some parameters are only used in language bindings but\n",
      "  passed down to XGBoost core.  Or some parameters are not used but slip through this\n",
      "  verification. Please open an issue if you find above cases.\n",
      "\n",
      "\n"
     ]
    },
    {
     "data": {
      "image/png": "[encoded data removed]",
      "text/plain": [
       "<Figure size 432x288 with 1 Axes>"
      ]
     },
     "metadata": {
      "needs_background": "light"
     },
     "output_type": "display_data"
    }
   ],
   "source": [
    "dtrain = xgb.DMatrix(train, label = Y)\n",
    "\n",
    "#Boosted trees\n",
    "params = {\n",
    "    'n_estimators' : 2,\n",
    "  'learning_rate': 1,\n",
    "  'max_depth': 2,\n",
    "  'objective': 'binary:logistic',\n",
    "    'scale_pos_weight':  pos_weights_scale\n",
    "}\n",
    "\n",
    "clf_xgb = XGBClassifier(**params)\n",
    "CV_report(clf_xgb, train, Y, 10, scoring)\n",
    "\n",
    "clf_xgb = XGBClassifier(objective = 'binary:logistic', scale_pos_weight = pos_weights_scale)\n",
    "param_dist = {'n_estimators': stats.randint(1, 100),\n",
    "              'learning_rate': stats.uniform(0.01, 0.99),\n",
    "              'subsample': stats.uniform(0.3, 0.7),\n",
    "              'max_depth': [1,2,3, 4, 5, 6, 7, 8, 9],\n",
    "              'colsample_bytree': stats.uniform(0.5, 0.45),\n",
    "              'min_child_weight': [1, 2, 3],\n",
    "              'max_delta_step' : stats.uniform(0,15),\n",
    "             }\n",
    "\n",
    "results = randomized_tuning(train,Y,clf_xgb, param_dist, 10, 100, scoring,'sensitivity')\n",
    "params = results.best_params_\n",
    "\n",
    "clf_xgb = XGBClassifier(**params, objective = 'binary:logistic', scale_pos_weight = pos_weights_scale)\n",
    "CV_report(clf_xgb, train, Y, 10, scoring)\n",
    "\n",
    "\n",
    "model_RF = xgb.train(params, dtrain, num_boost_round=1)\n",
    "xgb.plot_importance(model_RF)\n",
    "pyplot.show()"
   ]
  },
  {
   "cell_type": "code",
   "execution_count": 9,
   "metadata": {},
   "outputs": [
    {
     "data": {
      "text/plain": [
       "{'colsample_bytree': 0.8571490403365074,\n",
       " 'learning_rate': 0.21962820087611845,\n",
       " 'max_delta_step': 7.007520560001596,\n",
       " 'max_depth': 1,\n",
       " 'min_child_weight': 2,\n",
       " 'n_estimators': 49,\n",
       " 'subsample': 0.9975256664873773,\n",
       " 'validate_parameters': 1}"
      ]
     },
     "execution_count": 9,
     "metadata": {},
     "output_type": "execute_result"
    }
   ],
   "source": [
    "results.best_params_"
   ]
  },
  {
   "cell_type": "markdown",
   "metadata": {},
   "source": [
    "#### In this cell we apply SVM from scikit-learn"
   ]
  },
  {
   "cell_type": "code",
   "execution_count": 10,
   "metadata": {},
   "outputs": [
    {
     "name": "stdout",
     "output_type": "stream",
     "text": [
      "        Metric  Train mean  Train SD  Test mean   Test SD\n",
      "0     accuracy    0.825283  0.009667   0.774015  0.031244\n",
      "1    precision    1.000000  0.000000   0.200000  0.400000\n",
      "2  sensitivity    0.239421  0.039509   0.033333  0.066667\n",
      "3  specificity    1.000000  0.000000   0.995238  0.014286\n",
      "4           f1    0.384690  0.051929   0.057143  0.114286\n",
      "5      roc_auc    0.619711  0.019754   0.514286  0.035235\n"
     ]
    },
    {
     "name": "stderr",
     "output_type": "stream",
     "text": [
      "[Parallel(n_jobs=4)]: Using backend LokyBackend with 4 concurrent workers.\n",
      "[Parallel(n_jobs=4)]: Done  10 out of  10 | elapsed:    0.0s finished\n"
     ]
    }
   ],
   "source": [
    "clf1 = svm.SVC(random_state=0, gamma='auto', kernel='rbf')\n",
    "CV_report(clf1, train, Y, 10, scoring)"
   ]
  },
  {
   "cell_type": "code",
   "execution_count": 11,
   "metadata": {},
   "outputs": [
    {
     "name": "stdout",
     "output_type": "stream",
     "text": [
      "        Metric  Train mean  Train SD  Test mean   Test SD\n",
      "0     accuracy    0.895952  0.011036   0.752586  0.055313\n",
      "1    precision    0.874989  0.038778   0.451587  0.181743\n",
      "2  sensitivity    0.639363  0.026354   0.407143  0.179268\n",
      "3  specificity    0.972472  0.009468   0.858225  0.062142\n",
      "4           f1    0.738455  0.026440   0.415418  0.160205\n",
      "5      roc_auc    0.805918  0.015352   0.632684  0.084867\n"
     ]
    },
    {
     "name": "stderr",
     "output_type": "stream",
     "text": [
      "[Parallel(n_jobs=4)]: Using backend LokyBackend with 4 concurrent workers.\n",
      "[Parallel(n_jobs=4)]: Done  10 out of  10 | elapsed:    0.0s finished\n"
     ]
    }
   ],
   "source": [
    "clf2 = svm.SVC(random_state=0, gamma='auto', kernel='linear')\n",
    "CV_report(clf2, train, Y, 10, scoring)"
   ]
  },
  {
   "cell_type": "code",
   "execution_count": null,
   "metadata": {},
   "outputs": [],
   "source": []
  },
  {
   "cell_type": "code",
   "execution_count": null,
   "metadata": {},
   "outputs": [],
   "source": []
  }
 ],
 "metadata": {
  "kernelspec": {
   "display_name": "Python 3",
   "language": "python",
   "name": "python3"
  },
  "language_info": {
   "codemirror_mode": {
    "name": "ipython",
    "version": 3
   },
   "file_extension": ".py",
   "mimetype": "text/x-python",
   "name": "python",
   "nbconvert_exporter": "python",
   "pygments_lexer": "ipython3",
   "version": "3.7.1"
  }
 },
 "nbformat": 4,
 "nbformat_minor": 4
}
