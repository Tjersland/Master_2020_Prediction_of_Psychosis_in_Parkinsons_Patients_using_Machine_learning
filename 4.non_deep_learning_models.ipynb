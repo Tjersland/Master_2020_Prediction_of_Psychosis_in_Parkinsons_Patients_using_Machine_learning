{
 "cells": [
  {
   "cell_type": "markdown",
   "metadata": {},
   "source": [
    "# Non deep learning models"
   ]
  },
  {
   "cell_type": "markdown",
   "metadata": {},
   "source": [
    "### Todo\n",
    "\n",
    "Add and tune a simple model in order to see if our more complex models are worth it. Reference model # DONE\n",
    "\n",
    "Tune our complex models\n",
    "\n",
    "Try PCA/Auto encoder approaches\n",
    "\n",
    "Informal test of mean/mode vs heterogeneous"
   ]
  },
  {
   "cell_type": "markdown",
   "metadata": {},
   "source": [
    "#### This cell is for defining various OPTIONS used for this notebook (working directory, how many rows and columns pandas displays for a dataframe, etc). \n",
    "\n",
    "#### Preferably this cell is also where we do important imports (for example pandas and numpy)"
   ]
  },
  {
   "cell_type": "code",
   "execution_count": 57,
   "metadata": {},
   "outputs": [],
   "source": [
    "import os \n",
    "#Input the directory where your joined_data.csv is located \n",
    "#os.chdir('C:/Users/Trond/Documents/Master 2020/Processed data')\n",
    "os.chdir('C:/Users/Briggstone/Documents/Master 2020/Processed data')\n",
    "#os.chdir('C:/Users/MyPC/Documents/Andrijana/UiS/DATMAS Master oppgave/Processed data')\n",
    "\n",
    "#Where you want the csv file of the merged data to be placed\n",
    "output_filepath = 'C:/Users/Briggstone/Documents/Master 2020/Processed data'\n",
    "#output_filepath = 'C:/Users/MyPC/Documents/Andrijana/UiS/DATMAS Master oppgave/Processed data'\n",
    "\n",
    "from matplotlib import pyplot\n",
    "import pandas as pd \n",
    "import numpy as np\n",
    "import xgboost as xgb\n",
    "from xgboost.sklearn import XGBClassifier\n",
    "from sklearn.model_selection import train_test_split\n",
    "from sklearn.model_selection import cross_val_score\n",
    "from sklearn.model_selection import cross_validate\n",
    "from sklearn import metrics as met\n",
    "from sklearn import svm\n",
    "from sklearn.model_selection import RandomizedSearchCV\n",
    "from scipy import stats\n",
    "\n",
    "# Set ipython's max row display\n",
    "pd.set_option('display.max_row', 1000)\n",
    "\n",
    "# Set iPython's max column width to 50\n",
    "pd.set_option('display.max_columns', 50)\n",
    "\n",
    "#Here we set a seed so that our random search produce the same result \n",
    "np.random.seed(31415)\n",
    "\n",
    "# Here we create a scoring dictionary which defines the metrics we report on in cross validation\n",
    "scoring = {\n",
    "    'accuracy': met.make_scorer(met.accuracy_score),\n",
    "    'precision': met.make_scorer(met.precision_score),\n",
    "    'sensitivity': met.make_scorer(met.recall_score),\n",
    "    'specificity': met.make_scorer(met.recall_score,pos_label = 0),\n",
    "    'f1': met.make_scorer(met.f1_score),\n",
    "    'roc_auc': met.make_scorer(met.roc_auc_score)\n",
    "}\n",
    "\n",
    "# This is the metric we seek to optimise through tuning\n",
    "refit = {'sensitivity': met.make_scorer(met.recall_score)}\n"
   ]
  },
  {
   "cell_type": "markdown",
   "metadata": {},
   "source": [
    "#### In this cell we import our training data, convert HALL into HALL_EVER and select only BL observations."
   ]
  },
  {
   "cell_type": "code",
   "execution_count": 58,
   "metadata": {},
   "outputs": [
    {
     "name": "stdout",
     "output_type": "stream",
     "text": [
      "(The number of subjects, number of features) in training set (332, 19)\n",
      "Number of patients which hallucinates eventually in training set is  78  which is  0.23493975903614459  percent of patients\n"
     ]
    }
   ],
   "source": [
    "train = pd.read_csv('train.csv')\n",
    "temptrain = pd.DataFrame(train.PATNO.unique(), columns = [\"PATNO\"])\n",
    "\n",
    "HALL_EVER = []\n",
    "for id in train.PATNO.unique():\n",
    "    if train.loc[(train.PATNO == id) & (train.HALL == 1), \"HALL\"].empty:\n",
    "        HALL_EVER.append(0)\n",
    "    else:\n",
    "        HALL_EVER.append(1)\n",
    "\n",
    "temptrain[\"HALL_EVER\"] = HALL_EVER\n",
    "train.drop(\"HALL\", axis = 1, inplace = True)\n",
    "train = train.merge(temptrain, how = \"inner\", on = \"PATNO\")\n",
    "\n",
    "#Selecting only Baseline observations\n",
    "train = train.loc[train.EVENT_ID == \"BL\", :]\n",
    "\n",
    "#We can then safely drop EVENT_ID and PATNO\n",
    "train.drop([\"EVENT_ID\", \"PATNO\", \"LAST_EVENT_ID\"], axis = 1, inplace = True)\n",
    "\n",
    "# We form Y\n",
    "Y = train.pop(\"HALL_EVER\")\n",
    "\n",
    "print(\"(The number of subjects, number of features) in training set\", train.shape)\n",
    "print(\"Number of patients which hallucinates eventually in training set is \",  sum(Y), \" which is \", sum(Y)/ (Y.size), \" percent of patients\")\n",
    "\n",
    "#Important for xgboost class weight balancing\n",
    "num_pos_samples = sum(Y)\n",
    "num_neg_samples = Y.size - num_pos_samples\n",
    "pos_weights_scale = num_neg_samples / num_pos_samples"
   ]
  },
  {
   "cell_type": "code",
   "execution_count": 59,
   "metadata": {},
   "outputs": [],
   "source": [
    "import imblearn as imbl\n",
    "\n",
    "def over_sampling(model, X):\n",
    "    \n",
    "    column_types = pd.read_csv(\"Column_Data_Types_Final.csv\")\n",
    "    categorical_columns = column_types.loc[(column_types.DATA_TYPE == \"Categorical\") | (column_types.DATA_TYPE == \"Ordinal\") , \"COLUMN_NAME\"].values\n",
    "    categorical_columns = list(set(categorical_columns).intersection(set(X.columns)))\n",
    "    categorical_columns = [X.columns.get_loc(c) for c in categorical_columns if c in X]\n",
    "\n",
    "    pipeline = imbl.pipeline.make_pipeline(imbl.over_sampling.SMOTENC(categorical_columns, sampling_strategy = 1),\n",
    "                                          model)\n",
    "    \n",
    "    return pipeline"
   ]
  },
  {
   "cell_type": "markdown",
   "metadata": {},
   "source": [
    "#### In this cell we define general functions for hyperparameter tuning and cross validation using sklearn functions"
   ]
  },
  {
   "cell_type": "code",
   "execution_count": 60,
   "metadata": {},
   "outputs": [],
   "source": [
    "'''\n",
    "metrics from sklearn that we can put into scoring variable:\n",
    "‘accuracy’\n",
    "‘balanced_accuracy’\n",
    "‘average_precision’\n",
    "‘neg_brier_score’\n",
    "‘f1’\n",
    "‘neg_log_loss’\n",
    "‘precision’ etc.\n",
    "‘recall’ etc.\n",
    "‘jaccard’ etc.\n",
    "‘roc_auc’\n",
    "'''\n",
    "def randomized_tuning (X,Y, model, param_dist, k_folds, n_iter, scoring_metrics, scoring_refit, over_sample = False):\n",
    "    '''\n",
    "    model should be a XGBClassifier or sklearn classifier \n",
    "    param_dist can look like this, remember that it a randomized search through distributions, not a grid search:\n",
    "    param_dist = {'n_estimators': stats.randint(150, 500),\n",
    "              'learning_rate': stats.uniform(0.01, 0.07),\n",
    "              'subsample': stats.uniform(0.3, 0.7),\n",
    "              'max_depth': [3, 4, 5, 6, 7, 8, 9],\n",
    "              'colsample_bytree': stats.uniform(0.5, 0.45),\n",
    "              'min_child_weight': [1, 2, 3]\n",
    "             }\n",
    "    k_folds = number of folds in CV\n",
    "    n_iter = number of different random combination of parameters tried. More iterations gives a higher chance of finding the best parameters\n",
    "    scoring metrics = the metrics the search wil report on a the end, example: ['roc_auc', 'f1']\n",
    "    scoring_refit = The single metric that will be used to find a \"best estimator\" at the end,  pick one metric from your scoring metrics list. e.g \"f1\" or \n",
    "    set to False if manually finding best estimator\n",
    "    '''\n",
    "    if over_sample == True:\n",
    "        model= over_sampling(model, X)\n",
    "    \n",
    "    clf = RandomizedSearchCV(model, param_distributions = param_dist, cv = k_folds, n_iter = n_iter, scoring = scoring_metrics, refit = scoring_refit, \\\n",
    "                             error_score = 0, verbose = 1, n_jobs = -1, return_train_score = True)\n",
    "    '''\n",
    "    If scoring_refit is set you can get the best params on that metric by return.best_params_\n",
    "    Manual inspection can be done by pd.DataFrame(return.cv_results_)\n",
    "    '''\n",
    "    return clf.fit(X,Y)\n",
    "\n",
    "\n",
    "def CV_report (model, X, Y, k_folds, scoring, over_sample = False):\n",
    "    \n",
    "    if over_sample == True:\n",
    "        model= over_sampling(model, X)\n",
    "        \n",
    "    cv_results = cross_validate(model, X, Y, cv= k_folds, scoring= scoring, n_jobs = -1,  verbose = 1, return_train_score = True)\n",
    "    \n",
    "    df = pd.DataFrame(columns = [\"Metric\", \"Train mean\", \"Train SD\", \"Test mean\", \"Test SD\"])\n",
    "    rows_list = []\n",
    "    for x in scoring:\n",
    "        score_dict = {}\n",
    "        score_dict[\"Metric\"] = x\n",
    "        score_dict[\"Train mean\"] = np.mean(cv_results[\"train_\" + x])\n",
    "        score_dict[\"Train SD\"] = np.std(cv_results[\"train_\" + x])\n",
    "        score_dict[\"Test mean\"] = np.mean(cv_results[\"test_\" + x])\n",
    "        score_dict[\"Test SD\"] = np.std(cv_results[\"test_\" + x])  \n",
    "        rows_list.append(score_dict)\n",
    "      \n",
    "    print(df.append(pd.DataFrame(rows_list), sort = False))"
   ]
  },
  {
   "cell_type": "markdown",
   "metadata": {},
   "source": [
    "#### In this cell we apply logistic regression from sklearn as our simple comparison model "
   ]
  },
  {
   "cell_type": "code",
   "execution_count": 61,
   "metadata": {},
   "outputs": [
    {
     "name": "stderr",
     "output_type": "stream",
     "text": [
      "[Parallel(n_jobs=-1)]: Using backend LokyBackend with 8 concurrent workers.\n",
      "[Parallel(n_jobs=-1)]: Done   6 out of  10 | elapsed:    0.0s remaining:    0.0s\n",
      "[Parallel(n_jobs=-1)]: Done  10 out of  10 | elapsed:    0.1s finished\n",
      "[Parallel(n_jobs=-1)]: Using backend LokyBackend with 8 concurrent workers.\n"
     ]
    },
    {
     "name": "stdout",
     "output_type": "stream",
     "text": [
      "        Metric  Train mean  Train SD  Test mean   Test SD\n",
      "0     accuracy    0.682390  0.014910   0.620143  0.063690\n",
      "1    precision    0.394436  0.017034   0.308909  0.080751\n",
      "2  sensitivity    0.655252  0.024742   0.501786  0.166071\n",
      "3  specificity    0.690719  0.016163   0.656923  0.076463\n",
      "4           f1    0.492331  0.019005   0.378251  0.099769\n",
      "5      roc_auc    0.672985  0.016366   0.579354  0.083226\n",
      "Fitting 10 folds for each of 10 candidates, totalling 100 fits\n"
     ]
    },
    {
     "name": "stderr",
     "output_type": "stream",
     "text": [
      "[Parallel(n_jobs=-1)]: Done  52 tasks      | elapsed:    0.8s\n",
      "[Parallel(n_jobs=-1)]: Done 100 out of 100 | elapsed:    1.4s finished\n",
      "[Parallel(n_jobs=-1)]: Using backend LokyBackend with 8 concurrent workers.\n",
      "[Parallel(n_jobs=-1)]: Done   6 out of  10 | elapsed:    0.0s remaining:    0.0s\n"
     ]
    },
    {
     "name": "stdout",
     "output_type": "stream",
     "text": [
      "        Metric  Train mean  Train SD  Test mean   Test SD\n",
      "0     accuracy    0.680382  0.014196   0.623173  0.059184\n",
      "1    precision    0.392043  0.015778   0.310557  0.078951\n",
      "2  sensitivity    0.652394  0.022618   0.501786  0.166071\n",
      "3  specificity    0.688962  0.015979   0.660923  0.072217\n",
      "4           f1    0.489666  0.017380   0.379550  0.098462\n",
      "5      roc_auc    0.670678  0.014988   0.581354  0.080717\n"
     ]
    },
    {
     "name": "stderr",
     "output_type": "stream",
     "text": [
      "[Parallel(n_jobs=-1)]: Done  10 out of  10 | elapsed:    0.1s finished\n"
     ]
    },
    {
     "data": {
      "text/plain": [
       "\"\\nNeed to fix over sample first\\nclf_log = LogisticRegression(solver = 'lbfgs', class_weight = 'balanced', n_jobs = -1)\\nresults = randomized_tuning(train,Y,clf_log, new_param_dist, 10, 10, scoring,'sensitivity', over_sample = True)\\nparams = {key[key.find('_') + 2:]: results.best_params_[key] for key in results.best_params_}\\n\\nclf_log = LogisticRegression(**params,solver = 'lbfgs', class_weight = 'balanced', n_jobs = -1)\\nCV_report(clf_log,train,Y,10,scoring, over_sample = True)\\n\""
      ]
     },
     "execution_count": 61,
     "metadata": {},
     "output_type": "execute_result"
    }
   ],
   "source": [
    "from sklearn.linear_model import LogisticRegression\n",
    "\n",
    "clf_log = LogisticRegression(solver = 'lbfgs', class_weight = 'balanced', n_jobs = -1)\n",
    "\n",
    "CV_report(clf_log, train, Y, 10, scoring)\n",
    "\n",
    "param_dist = { 'C' : stats.uniform(0.01, 10)\n",
    "             }\n",
    "\n",
    "results = randomized_tuning(train,Y,clf_log, param_dist, 10, 10, scoring,'sensitivity')\n",
    "params = results.best_params_\n",
    "\n",
    "clf_log = LogisticRegression(**params,solver = 'lbfgs', class_weight = 'balanced', n_jobs = -1)\n",
    "CV_report(clf_log, train, Y, 10, scoring)\n",
    "\n",
    "new_param_dist = {'logisticregression__' + key: param_dist[key] for key in param_dist}\n",
    "\n",
    "'''\n",
    "Need to fix over sample first\n",
    "clf_log = LogisticRegression(solver = 'lbfgs', class_weight = 'balanced', n_jobs = -1)\n",
    "results = randomized_tuning(train,Y,clf_log, new_param_dist, 10, 10, scoring,'sensitivity', over_sample = True)\n",
    "params = {key[key.find('_') + 2:]: results.best_params_[key] for key in results.best_params_}\n",
    "\n",
    "clf_log = LogisticRegression(**params,solver = 'lbfgs', class_weight = 'balanced', n_jobs = -1)\n",
    "CV_report(clf_log,train,Y,10,scoring, over_sample = True)\n",
    "'''"
   ]
  },
  {
   "cell_type": "markdown",
   "metadata": {},
   "source": [
    "#### In this cell we apply random forest from XGBOOST"
   ]
  },
  {
   "cell_type": "code",
   "execution_count": 62,
   "metadata": {},
   "outputs": [
    {
     "name": "stderr",
     "output_type": "stream",
     "text": [
      "[Parallel(n_jobs=-1)]: Using backend LokyBackend with 8 concurrent workers.\n",
      "[Parallel(n_jobs=-1)]: Done   6 out of  10 | elapsed:    0.0s remaining:    0.0s\n",
      "[Parallel(n_jobs=-1)]: Done  10 out of  10 | elapsed:    0.1s finished\n",
      "[Parallel(n_jobs=-1)]: Using backend LokyBackend with 8 concurrent workers.\n"
     ]
    },
    {
     "name": "stdout",
     "output_type": "stream",
     "text": [
      "        Metric  Train mean  Train SD  Test mean   Test SD\n",
      "0     accuracy    0.961516  0.012814   0.686364  0.073067\n",
      "1    precision    0.872571  0.044598   0.305556  0.220829\n",
      "2  sensitivity    0.982897  0.016667   0.219643  0.140164\n",
      "3  specificity    0.954945  0.017725   0.829692  0.082146\n",
      "4           f1    0.923681  0.023957   0.242386  0.147453\n",
      "5      roc_auc    0.968921  0.009949   0.524668  0.079081\n",
      "Fitting 10 folds for each of 100 candidates, totalling 1000 fits\n"
     ]
    },
    {
     "name": "stderr",
     "output_type": "stream",
     "text": [
      "[Parallel(n_jobs=-1)]: Done  56 tasks      | elapsed:    1.0s\n",
      "[Parallel(n_jobs=-1)]: Done 656 tasks      | elapsed:   10.7s\n",
      "[Parallel(n_jobs=-1)]: Done 985 out of 1000 | elapsed:   15.8s remaining:    0.1s\n",
      "[Parallel(n_jobs=-1)]: Done 1000 out of 1000 | elapsed:   16.0s finished\n",
      "[Parallel(n_jobs=-1)]: Using backend LokyBackend with 8 concurrent workers.\n"
     ]
    },
    {
     "name": "stdout",
     "output_type": "stream",
     "text": [
      "{'colsample_bynode': 0.6777047231212889, 'max_delta_step': 0.23614948198767693, 'max_depth': 3, 'num_parallel_tree': 138, 'subsample': 0.7405039326386993}\n",
      "        Metric  Train mean  Train SD  Test mean   Test SD\n",
      "0     accuracy    0.794176  0.029576   0.605080  0.079592\n",
      "1    precision    0.541997  0.041735   0.265375  0.128684\n",
      "2  sensitivity    0.856177  0.026350   0.425000  0.213062\n",
      "3  specificity    0.775115  0.037047   0.661385  0.098306\n",
      "4           f1    0.662895  0.034291   0.321853  0.156215\n",
      "5      roc_auc    0.815646  0.023794   0.543192  0.105388\n"
     ]
    },
    {
     "name": "stderr",
     "output_type": "stream",
     "text": [
      "[Parallel(n_jobs=-1)]: Done   6 out of  10 | elapsed:    0.1s remaining:    0.0s\n",
      "[Parallel(n_jobs=-1)]: Done  10 out of  10 | elapsed:    0.1s finished\n"
     ]
    },
    {
     "data": {
      "text/plain": [
       "\"\\nNeed to fix over sample first\\nclf_xgb = XGBClassifier(objective = 'binary:logistic', n_estimators = 1, learning_rate = 1)\\n\\nnew_param_dist = {'xgbclassifier__' + key: param_dist[key] for key in param_dist}\\n\\nresults = randomized_tuning(train,Y,clf_xgb, new_param_dist, 10, 10, scoring,'sensitivity', over_sample = True)\\nparams = {key[key.find('_') + 2:]: results.best_params_[key] for key in results.best_params_}\\nprint(params)\\n\\nclf_xgb = XGBClassifier(**params, objective = 'binary:logistic', n_estimators = 1, learning_rate = 1)\\nCV_report(clf_xgb,train,Y,10,scoring, over_sample = True)\\n\""
      ]
     },
     "execution_count": 62,
     "metadata": {},
     "output_type": "execute_result"
    }
   ],
   "source": [
    "dtrain = xgb.DMatrix(train, label = Y)\n",
    "\n",
    "\n",
    "#Random Forest\n",
    "params = {\n",
    "  'colsample_bynode': 0.8,\n",
    "    'n_estimators' : 1,\n",
    "  'learning_rate': 1,\n",
    "  'max_depth': 5,\n",
    "  'num_parallel_tree': 100,\n",
    "  'objective': 'binary:logistic',\n",
    "  'subsample': 0.8,\n",
    "  'scale_pos_weight' : pos_weights_scale\n",
    "}\n",
    "\n",
    "clf_xgb = XGBClassifier(**params)\n",
    "CV_report(clf_xgb, train, Y, 10, scoring)\n",
    "\n",
    "clf_xgb = XGBClassifier(objective = 'binary:logistic', n_estimators = 1, learning_rate = 1, scale_pos_weight = pos_weights_scale)\n",
    "param_dist = { 'colsample_bynode': stats.uniform(0.5, 0.45),\n",
    "              'max_depth': [3, 4, 5, 6, 7, 8, 9],             \n",
    "              'subsample': stats.uniform(0.3, 0.6),\n",
    "              'num_parallel_tree': stats.randint(50,200), \n",
    "              'max_delta_step' : stats.uniform(0,15),\n",
    "             }\n",
    "\n",
    "results = randomized_tuning(train,Y,clf_xgb, param_dist, 10, 100, scoring,'sensitivity')\n",
    "params = results.best_params_\n",
    "print(params)\n",
    "\n",
    "clf_xgb = XGBClassifier(**params, objective = 'binary:logistic', n_estimators = 1, learning_rate = 1, scale_pos_weight = pos_weights_scale)\n",
    "CV_report(clf_xgb, train, Y, 10, scoring)\n",
    "\n",
    "'''\n",
    "Need to fix over sample first\n",
    "clf_xgb = XGBClassifier(objective = 'binary:logistic', n_estimators = 1, learning_rate = 1)\n",
    "\n",
    "new_param_dist = {'xgbclassifier__' + key: param_dist[key] for key in param_dist}\n",
    "\n",
    "results = randomized_tuning(train,Y,clf_xgb, new_param_dist, 10, 10, scoring,'sensitivity', over_sample = True)\n",
    "params = {key[key.find('_') + 2:]: results.best_params_[key] for key in results.best_params_}\n",
    "print(params)\n",
    "\n",
    "clf_xgb = XGBClassifier(**params, objective = 'binary:logistic', n_estimators = 1, learning_rate = 1)\n",
    "CV_report(clf_xgb,train,Y,10,scoring, over_sample = True)\n",
    "'''\n",
    "#model_RF = xgb.train(params, dtrain, num_boost_round=1)\n",
    "#xgb.plot_importance(model_RF)\n",
    "#pyplot.show()"
   ]
  },
  {
   "cell_type": "code",
   "execution_count": 63,
   "metadata": {},
   "outputs": [
    {
     "data": {
      "text/plain": [
       "{'colsample_bynode': 0.6777047231212889,\n",
       " 'max_delta_step': 0.23614948198767693,\n",
       " 'max_depth': 3,\n",
       " 'num_parallel_tree': 138,\n",
       " 'subsample': 0.7405039326386993}"
      ]
     },
     "execution_count": 63,
     "metadata": {},
     "output_type": "execute_result"
    }
   ],
   "source": [
    "results.best_params_"
   ]
  },
  {
   "cell_type": "markdown",
   "metadata": {},
   "source": [
    "#### In this cell we apply boosted treesfrom XGBOOST"
   ]
  },
  {
   "cell_type": "code",
   "execution_count": 64,
   "metadata": {},
   "outputs": [
    {
     "name": "stderr",
     "output_type": "stream",
     "text": [
      "[Parallel(n_jobs=-1)]: Using backend LokyBackend with 8 concurrent workers.\n",
      "[Parallel(n_jobs=-1)]: Done   6 out of  10 | elapsed:    0.0s remaining:    0.0s\n",
      "[Parallel(n_jobs=-1)]: Done  10 out of  10 | elapsed:    0.0s finished\n",
      "[Parallel(n_jobs=-1)]: Using backend LokyBackend with 8 concurrent workers.\n"
     ]
    },
    {
     "name": "stdout",
     "output_type": "stream",
     "text": [
      "        Metric  Train mean  Train SD  Test mean   Test SD\n",
      "0     accuracy    0.647285  0.065319   0.520588  0.064070\n",
      "1    precision    0.389470  0.046834   0.240548  0.073392\n",
      "2  sensitivity    0.790141  0.111052   0.533929  0.251836\n",
      "3  specificity    0.603172  0.117738   0.519538  0.120378\n",
      "4           f1    0.514863  0.023132   0.324790  0.114867\n",
      "5      roc_auc    0.696656  0.017498   0.526734  0.092149\n",
      "Fitting 10 folds for each of 100 candidates, totalling 1000 fits\n"
     ]
    },
    {
     "name": "stderr",
     "output_type": "stream",
     "text": [
      "[Parallel(n_jobs=-1)]: Done  56 tasks      | elapsed:    0.5s\n",
      "[Parallel(n_jobs=-1)]: Done 969 tasks      | elapsed:    5.4s\n",
      "[Parallel(n_jobs=-1)]: Done 985 out of 1000 | elapsed:    5.5s remaining:    0.0s\n",
      "[Parallel(n_jobs=-1)]: Done 1000 out of 1000 | elapsed:    5.5s finished\n",
      "[Parallel(n_jobs=-1)]: Using backend LokyBackend with 8 concurrent workers.\n"
     ]
    },
    {
     "name": "stdout",
     "output_type": "stream",
     "text": [
      "        Metric  Train mean  Train SD  Test mean   Test SD\n",
      "0     accuracy    0.686088  0.026376   0.511497  0.070036\n",
      "1    precision    0.418151  0.022874   0.237596  0.075371\n",
      "2  sensitivity    0.837666  0.041213   0.498214  0.159409\n",
      "3  specificity    0.639550  0.042902   0.515538  0.095460\n",
      "4           f1    0.556870  0.017073   0.319272  0.099855\n",
      "5      roc_auc    0.738608  0.015112   0.506876  0.079035\n",
      "[17:51:44] WARNING: C:\\Users\\Administrator\\workspace\\xgboost-win64_release_1.0.0\\src\\learner.cc:328: \n",
      "Parameters: { n_estimators } might not be used.\n",
      "\n",
      "  This may not be accurate due to some parameters are only used in language bindings but\n",
      "  passed down to XGBoost core.  Or some parameters are not used but slip through this\n",
      "  verification. Please open an issue if you find above cases.\n",
      "\n",
      "\n"
     ]
    },
    {
     "name": "stderr",
     "output_type": "stream",
     "text": [
      "[Parallel(n_jobs=-1)]: Done   6 out of  10 | elapsed:    0.0s remaining:    0.0s\n",
      "[Parallel(n_jobs=-1)]: Done  10 out of  10 | elapsed:    0.1s finished\n"
     ]
    },
    {
     "data": {
      "image/png": "[encoded data removed]",
      "text/plain": [
       "<Figure size 432x288 with 1 Axes>"
      ]
     },
     "metadata": {
      "needs_background": "light"
     },
     "output_type": "display_data"
    }
   ],
   "source": [
    "dtrain = xgb.DMatrix(train, label = Y)\n",
    "\n",
    "#Boosted trees\n",
    "params = {\n",
    "    'n_estimators' : 2,\n",
    "  'learning_rate': 1,\n",
    "  'max_depth': 2,\n",
    "  'objective': 'binary:logistic',\n",
    "    'scale_pos_weight':  pos_weights_scale\n",
    "}\n",
    "\n",
    "clf_xgb = XGBClassifier(**params)\n",
    "CV_report(clf_xgb, train, Y, 10, scoring)\n",
    "\n",
    "clf_xgb = XGBClassifier(objective = 'binary:logistic', scale_pos_weight = pos_weights_scale)\n",
    "param_dist = {'n_estimators': stats.randint(1, 100),\n",
    "              'learning_rate': stats.uniform(0.01, 0.99),\n",
    "              'subsample': stats.uniform(0.3, 0.7),\n",
    "              'max_depth': [1,2,3, 4, 5, 6, 7, 8, 9],\n",
    "              'colsample_bytree': stats.uniform(0.5, 0.45),\n",
    "              'min_child_weight': [1, 2, 3],\n",
    "              'max_delta_step' : stats.uniform(0,15),\n",
    "             }\n",
    "\n",
    "results = randomized_tuning(train,Y,clf_xgb, param_dist, 10, 100, scoring,'sensitivity')\n",
    "params = results.best_params_\n",
    "\n",
    "clf_xgb = XGBClassifier(**params, objective = 'binary:logistic', scale_pos_weight = pos_weights_scale)\n",
    "CV_report(clf_xgb, train, Y, 10, scoring)\n",
    "\n",
    "\n",
    "model_RF = xgb.train(params, dtrain, num_boost_round=1)\n",
    "xgb.plot_importance(model_RF)\n",
    "pyplot.show()"
   ]
  },
  {
   "cell_type": "code",
   "execution_count": 65,
   "metadata": {},
   "outputs": [
    {
     "data": {
      "text/plain": [
       "{'colsample_bytree': 0.892771255833813,\n",
       " 'learning_rate': 0.940187301058737,\n",
       " 'max_delta_step': 0.0008427348293721382,\n",
       " 'max_depth': 3,\n",
       " 'min_child_weight': 2,\n",
       " 'n_estimators': 49,\n",
       " 'subsample': 0.9774163040350385,\n",
       " 'validate_parameters': 1}"
      ]
     },
     "execution_count": 65,
     "metadata": {},
     "output_type": "execute_result"
    }
   ],
   "source": [
    "results.best_params_"
   ]
  },
  {
   "cell_type": "markdown",
   "metadata": {},
   "source": [
    "#### In this cell we apply SVM from scikit-learn"
   ]
  },
  {
   "cell_type": "code",
   "execution_count": 66,
   "metadata": {},
   "outputs": [
    {
     "name": "stdout",
     "output_type": "stream",
     "text": [
      "        Metric  Train mean  Train SD  Test mean   Test SD\n",
      "0     accuracy    0.810237  0.011071   0.759002  0.019376\n",
      "1    precision    1.000000  0.000000   0.000000  0.000000\n",
      "2  sensitivity    0.192354  0.045901   0.000000  0.000000\n",
      "3  specificity    1.000000  0.000000   0.992000  0.016000\n",
      "4           f1    0.320166  0.064474   0.000000  0.000000\n",
      "5      roc_auc    0.596177  0.022951   0.496000  0.008000\n"
     ]
    },
    {
     "name": "stderr",
     "output_type": "stream",
     "text": [
      "[Parallel(n_jobs=-1)]: Using backend LokyBackend with 8 concurrent workers.\n",
      "[Parallel(n_jobs=-1)]: Done   6 out of  10 | elapsed:    0.0s remaining:    0.0s\n",
      "[Parallel(n_jobs=-1)]: Done  10 out of  10 | elapsed:    0.0s finished\n"
     ]
    }
   ],
   "source": [
    "clf1 = svm.SVC(random_state=0, gamma='auto', kernel='rbf')\n",
    "CV_report(clf1, train, Y, 10, scoring)"
   ]
  },
  {
   "cell_type": "code",
   "execution_count": 67,
   "metadata": {},
   "outputs": [
    {
     "name": "stdout",
     "output_type": "stream",
     "text": [
      "        Metric  Train mean  Train SD  Test mean   Test SD\n",
      "0     accuracy    0.768739  0.011383   0.755971  0.031901\n",
      "1    precision    0.082353  0.247059   0.000000  0.000000\n",
      "2  sensitivity    0.020000  0.060000   0.000000  0.000000\n",
      "3  specificity    0.998690  0.003930   0.988000  0.036000\n",
      "4           f1    0.032184  0.096552   0.000000  0.000000\n",
      "5      roc_auc    0.509345  0.028035   0.494000  0.018000\n"
     ]
    },
    {
     "name": "stderr",
     "output_type": "stream",
     "text": [
      "[Parallel(n_jobs=-1)]: Using backend LokyBackend with 8 concurrent workers.\n",
      "[Parallel(n_jobs=-1)]: Done   6 out of  10 | elapsed:    0.0s remaining:    0.0s\n",
      "[Parallel(n_jobs=-1)]: Done  10 out of  10 | elapsed:    0.0s finished\n"
     ]
    }
   ],
   "source": [
    "clf2 = svm.SVC(random_state=0, gamma='auto', kernel='linear')\n",
    "CV_report(clf2, train, Y, 10, scoring)"
   ]
  },
  {
   "cell_type": "code",
   "execution_count": null,
   "metadata": {},
   "outputs": [],
   "source": []
  },
  {
   "cell_type": "code",
   "execution_count": null,
   "metadata": {},
   "outputs": [],
   "source": []
  }
 ],
 "metadata": {
  "kernelspec": {
   "display_name": "Python 3",
   "language": "python",
   "name": "python3"
  },
  "language_info": {
   "codemirror_mode": {
    "name": "ipython",
    "version": 3
   },
   "file_extension": ".py",
   "mimetype": "text/x-python",
   "name": "python",
   "nbconvert_exporter": "python",
   "pygments_lexer": "ipython3",
   "version": "3.7.1"
  }
 },
 "nbformat": 4,
 "nbformat_minor": 4
}
