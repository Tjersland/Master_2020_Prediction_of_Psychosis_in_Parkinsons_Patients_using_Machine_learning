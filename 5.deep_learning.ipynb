{
 "cells": [
  {
   "cell_type": "markdown",
   "metadata": {},
   "source": [
    "# Deep learning models"
   ]
  },
  {
   "cell_type": "markdown",
   "metadata": {},
   "source": [
    "### Todo\n",
    "\n"
   ]
  },
  {
   "cell_type": "markdown",
   "metadata": {},
   "source": [
    "#### This cell is for defining various OPTIONS used for this notebook (working directory, how many rows and columns pandas displays for a dataframe, etc). \n",
    "\n",
    "#### Preferably this cell is also where we do important imports (for example pandas and numpy)"
   ]
  },
  {
   "cell_type": "code",
   "execution_count": 294,
   "metadata": {},
   "outputs": [],
   "source": [
    "import os \n",
    "#Input the directory where your joined_data.csv is located \n",
    "#os.chdir('C:/Users/Trond/Documents/Master 2020/Processed data')\n",
    "os.chdir('C:/Users/Briggstone/Documents/Master 2020/Processed data')\n",
    "#os.chdir('C:/Users/MyPC/Documents/Andrijana/UiS/DATMAS Master oppgave/Processed data')\n",
    "\n",
    "#Where you want the csv file of the merged data to be placed\n",
    "output_filepath = 'C:/Users/Briggstone/Documents/Master 2020/Processed data'\n",
    "#output_filepath = 'C:/Users/MyPC/Documents/Andrijana/UiS/DATMAS Master oppgave/Processed data'\n",
    "\n",
    "import numpy as np\n",
    "import pandas as pd\n",
    "\n",
    "# Set ipython's max row display\n",
    "pd.set_option('display.max_row', 1000)\n",
    "\n",
    "# Set iPython's max column width to 50\n",
    "pd.set_option('display.max_columns', 50)\n",
    "\n",
    "# Which folder of preprocessed data we want to use\n",
    "FOLDER_NAME = \"LSTM_TEST\"\n"
   ]
  },
  {
   "cell_type": "markdown",
   "metadata": {},
   "source": [
    "#### In this cell we do additional preprocessing specific for LSTM"
   ]
  },
  {
   "cell_type": "code",
   "execution_count": 295,
   "metadata": {},
   "outputs": [
    {
     "name": "stderr",
     "output_type": "stream",
     "text": [
      "C:\\Users\\Briggstone\\AppData\\Roaming\\Python\\Python37\\site-packages\\pandas\\core\\frame.py:3997: SettingWithCopyWarning: \n",
      "A value is trying to be set on a copy of a slice from a DataFrame\n",
      "\n",
      "See the caveats in the documentation: https://pandas.pydata.org/pandas-docs/stable/user_guide/indexing.html#returning-a-view-versus-a-copy\n",
      "  errors=errors,\n"
     ]
    }
   ],
   "source": [
    "def create_generator_arrays(df):\n",
    "    \n",
    "    df_x = []\n",
    "    df_y = []\n",
    "    \n",
    "    unique_subjects = df.PATNO.unique()  \n",
    "    \n",
    "    for u in unique_subjects:\n",
    "        \n",
    "        subject_data = df.loc[df.PATNO == u, :]\n",
    "        \n",
    "        y = subject_data.tail(1).HALL.values[0]\n",
    "        y = np.expand_dims(y, axis = 0)\n",
    "        df_y.append(y)\n",
    "        \n",
    "        subject_data.drop([\"HALL\", \"PATNO\"], axis = 1, inplace = True)\n",
    "        \n",
    "        x = subject_data.to_numpy()\n",
    "        x = np.expand_dims(x, axis=0)\n",
    "        df_x.append(x)\n",
    "        \n",
    "    return df_x,df_y\n",
    "\n",
    "\n",
    "\n",
    "\n",
    "train = pd.read_csv(FOLDER_NAME + '/train.csv')\n",
    "test = pd.read_csv(FOLDER_NAME + '/test.csv')\n",
    "\n",
    "train.drop([\"SAMPLING\"], axis = 1, inplace  = True)\n",
    "\n",
    "train_x, train_y = create_generator_arrays(train)\n",
    "test_x, test_y = create_generator_arrays(test)\n",
    "\n",
    "\n",
    "num_of_dims = train.shape[1] - 2\n",
    "num_of_unique_subjects_train = train.PATNO.unique().size  \n",
    "num_of_unique_subjects_test = test.PATNO.unique().size  "
   ]
  },
  {
   "cell_type": "code",
   "execution_count": 296,
   "metadata": {},
   "outputs": [
    {
     "data": {
      "text/plain": [
       "array([0.25625])"
      ]
     },
     "execution_count": 296,
     "metadata": {},
     "output_type": "execute_result"
    }
   ],
   "source": [
    "sum(train_y) / len(train_y)"
   ]
  },
  {
   "cell_type": "markdown",
   "metadata": {},
   "source": [
    "#### In this section we define helper functions for the LSTM implementation"
   ]
  },
  {
   "cell_type": "code",
   "execution_count": 297,
   "metadata": {},
   "outputs": [],
   "source": [
    "def data_generator (x,y, num_of_epochs):\n",
    "    for e in range(num_of_epochs):\n",
    "        for i in range (len(x)):\n",
    "            yield x[i], y[i]\n",
    "        "
   ]
  },
  {
   "cell_type": "code",
   "execution_count": 298,
   "metadata": {},
   "outputs": [
    {
     "data": {
      "text/plain": [
       "numpy.ndarray"
      ]
     },
     "execution_count": 298,
     "metadata": {},
     "output_type": "execute_result"
    }
   ],
   "source": [
    "type(train_y[0])"
   ]
  },
  {
   "cell_type": "markdown",
   "metadata": {},
   "source": [
    "#### In this cell we set all flags and parameters for LSTM (Long short-term memory)"
   ]
  },
  {
   "cell_type": "markdown",
   "metadata": {},
   "source": [
    "#### In this cell we implement our LSTM"
   ]
  },
  {
   "cell_type": "code",
   "execution_count": 299,
   "metadata": {},
   "outputs": [
    {
     "name": "stdout",
     "output_type": "stream",
     "text": [
      "Model: \"sequential_43\"\n",
      "_________________________________________________________________\n",
      "Layer (type)                 Output Shape              Param #   \n",
      "=================================================================\n",
      "lstm_72 (LSTM)               (None, 4)                 624       \n",
      "_________________________________________________________________\n",
      "dropout_26 (Dropout)         (None, 4)                 0         \n",
      "_________________________________________________________________\n",
      "dense_34 (Dense)             (None, 1)                 5         \n",
      "=================================================================\n",
      "Total params: 629\n",
      "Trainable params: 629\n",
      "Non-trainable params: 0\n",
      "_________________________________________________________________\n",
      "Epoch 1/60\n",
      "320/320 [==============================] - 1s 2ms/step - loss: 0.5973 - accuracy: 0.7406\n",
      "Epoch 2/60\n",
      "320/320 [==============================] - 1s 2ms/step - loss: 0.5656 - accuracy: 0.7437\n",
      "Epoch 3/60\n",
      "320/320 [==============================] - 1s 2ms/step - loss: 0.5752 - accuracy: 0.7437\n",
      "Epoch 4/60\n",
      "320/320 [==============================] - 1s 2ms/step - loss: 0.5518 - accuracy: 0.7469\n",
      "Epoch 5/60\n",
      "320/320 [==============================] - 1s 2ms/step - loss: 0.5961 - accuracy: 0.7437\n",
      "Epoch 6/60\n",
      "320/320 [==============================] - 1s 2ms/step - loss: 0.5600 - accuracy: 0.7406\n",
      "Epoch 7/60\n",
      "320/320 [==============================] - 1s 2ms/step - loss: 0.5393 - accuracy: 0.7375\n",
      "Epoch 8/60\n",
      "320/320 [==============================] - 1s 2ms/step - loss: 0.5553 - accuracy: 0.7437\n",
      "Epoch 9/60\n",
      "320/320 [==============================] - 1s 2ms/step - loss: 0.5529 - accuracy: 0.7437\n",
      "Epoch 10/60\n",
      "320/320 [==============================] - 1s 2ms/step - loss: 0.5396 - accuracy: 0.7500\n",
      "Epoch 11/60\n",
      "320/320 [==============================] - 1s 2ms/step - loss: 0.5410 - accuracy: 0.7531\n",
      "Epoch 12/60\n",
      "320/320 [==============================] - 1s 2ms/step - loss: 0.5640 - accuracy: 0.7531\n",
      "Epoch 13/60\n",
      "320/320 [==============================] - 1s 2ms/step - loss: 0.5016 - accuracy: 0.7500\n",
      "Epoch 14/60\n",
      "320/320 [==============================] - 0s 2ms/step - loss: 0.5515 - accuracy: 0.7594\n",
      "Epoch 15/60\n",
      "320/320 [==============================] - 0s 2ms/step - loss: 0.5768 - accuracy: 0.7281\n",
      "Epoch 16/60\n",
      "320/320 [==============================] - 0s 2ms/step - loss: 0.5311 - accuracy: 0.7406\n",
      "Epoch 17/60\n",
      "320/320 [==============================] - 0s 2ms/step - loss: 0.5474 - accuracy: 0.7625\n",
      "Epoch 18/60\n",
      "320/320 [==============================] - 0s 2ms/step - loss: 0.5199 - accuracy: 0.7469\n",
      "Epoch 19/60\n",
      "320/320 [==============================] - 1s 2ms/step - loss: 0.5466 - accuracy: 0.7437\n",
      "Epoch 20/60\n",
      "320/320 [==============================] - 0s 1ms/step - loss: 0.5436 - accuracy: 0.7563\n",
      "Epoch 21/60\n",
      "320/320 [==============================] - 1s 2ms/step - loss: 0.5343 - accuracy: 0.7469\n",
      "Epoch 22/60\n",
      "320/320 [==============================] - 1s 2ms/step - loss: 0.5209 - accuracy: 0.7500\n",
      "Epoch 23/60\n",
      "320/320 [==============================] - 1s 2ms/step - loss: 0.5244 - accuracy: 0.7531\n",
      "Epoch 24/60\n",
      "320/320 [==============================] - 1s 2ms/step - loss: 0.5638 - accuracy: 0.7469\n",
      "Epoch 25/60\n",
      "320/320 [==============================] - 1s 2ms/step - loss: 0.5226 - accuracy: 0.7625\n",
      "Epoch 26/60\n",
      "320/320 [==============================] - 1s 2ms/step - loss: 0.5523 - accuracy: 0.7656\n",
      "Epoch 27/60\n",
      "320/320 [==============================] - 0s 2ms/step - loss: 0.5268 - accuracy: 0.7531\n",
      "Epoch 28/60\n",
      "320/320 [==============================] - 0s 2ms/step - loss: 0.5129 - accuracy: 0.7594\n",
      "Epoch 29/60\n",
      "320/320 [==============================] - 0s 2ms/step - loss: 0.5056 - accuracy: 0.7688\n",
      "Epoch 30/60\n",
      "320/320 [==============================] - 1s 2ms/step - loss: 0.5296 - accuracy: 0.7656\n",
      "Epoch 31/60\n",
      "320/320 [==============================] - 1s 2ms/step - loss: 0.5008 - accuracy: 0.7688\n",
      "Epoch 32/60\n",
      "320/320 [==============================] - 1s 2ms/step - loss: 0.5133 - accuracy: 0.7875\n",
      "Epoch 33/60\n",
      "320/320 [==============================] - 1s 2ms/step - loss: 0.5044 - accuracy: 0.7563\n",
      "Epoch 34/60\n",
      "320/320 [==============================] - 1s 2ms/step - loss: 0.4721 - accuracy: 0.7781\n",
      "Epoch 35/60\n",
      "320/320 [==============================] - 1s 2ms/step - loss: 0.5018 - accuracy: 0.7656\n",
      "Epoch 36/60\n",
      "320/320 [==============================] - 1s 2ms/step - loss: 0.5151 - accuracy: 0.7625\n",
      "Epoch 37/60\n",
      "320/320 [==============================] - 1s 2ms/step - loss: 0.4933 - accuracy: 0.7875\n",
      "Epoch 38/60\n",
      "320/320 [==============================] - 1s 2ms/step - loss: 0.5107 - accuracy: 0.7875\n",
      "Epoch 39/60\n",
      "320/320 [==============================] - 1s 2ms/step - loss: 0.5003 - accuracy: 0.7937\n",
      "Epoch 40/60\n",
      "320/320 [==============================] - 1s 2ms/step - loss: 0.4964 - accuracy: 0.7781\n",
      "Epoch 41/60\n",
      "320/320 [==============================] - 1s 2ms/step - loss: 0.5012 - accuracy: 0.7563\n",
      "Epoch 42/60\n",
      "320/320 [==============================] - 1s 3ms/step - loss: 0.5161 - accuracy: 0.7688\n",
      "Epoch 43/60\n",
      "320/320 [==============================] - 1s 2ms/step - loss: 0.5199 - accuracy: 0.7625\n",
      "Epoch 44/60\n",
      "320/320 [==============================] - 1s 2ms/step - loss: 0.4820 - accuracy: 0.7781\n",
      "Epoch 45/60\n",
      "320/320 [==============================] - 1s 2ms/step - loss: 0.5010 - accuracy: 0.7875\n",
      "Epoch 46/60\n",
      "320/320 [==============================] - 1s 2ms/step - loss: 0.5229 - accuracy: 0.7656\n",
      "Epoch 47/60\n",
      "320/320 [==============================] - 1s 2ms/step - loss: 0.5189 - accuracy: 0.7969\n",
      "Epoch 48/60\n",
      "320/320 [==============================] - 1s 2ms/step - loss: 0.4881 - accuracy: 0.7750\n",
      "Epoch 49/60\n",
      "320/320 [==============================] - 1s 2ms/step - loss: 0.4957 - accuracy: 0.7906\n",
      "Epoch 50/60\n",
      "320/320 [==============================] - 1s 2ms/step - loss: 0.5026 - accuracy: 0.8062\n",
      "Epoch 51/60\n",
      "320/320 [==============================] - 1s 2ms/step - loss: 0.4813 - accuracy: 0.7875\n",
      "Epoch 52/60\n",
      "320/320 [==============================] - 1s 2ms/step - loss: 0.5176 - accuracy: 0.7750\n",
      "Epoch 53/60\n",
      "320/320 [==============================] - 1s 2ms/step - loss: 0.5059 - accuracy: 0.7812\n",
      "Epoch 54/60\n",
      "320/320 [==============================] - 1s 2ms/step - loss: 0.5197 - accuracy: 0.7906\n",
      "Epoch 55/60\n",
      "320/320 [==============================] - 1s 2ms/step - loss: 0.4775 - accuracy: 0.8094\n",
      "Epoch 56/60\n",
      "320/320 [==============================] - 1s 2ms/step - loss: 0.4710 - accuracy: 0.7969\n",
      "Epoch 57/60\n",
      "320/320 [==============================] - 1s 2ms/step - loss: 0.5225 - accuracy: 0.7656\n",
      "Epoch 58/60\n",
      "320/320 [==============================] - 1s 2ms/step - loss: 0.5161 - accuracy: 0.7750\n",
      "Epoch 59/60\n",
      "320/320 [==============================] - 1s 2ms/step - loss: 0.5252 - accuracy: 0.8000\n",
      "Epoch 60/60\n",
      "320/320 [==============================] - 1s 2ms/step - loss: 0.4988 - accuracy: 0.8031\n"
     ]
    },
    {
     "data": {
      "text/plain": [
       "<keras.callbacks.callbacks.History at 0x2429a0a83c8>"
      ]
     },
     "execution_count": 299,
     "metadata": {},
     "output_type": "execute_result"
    }
   ],
   "source": [
    "from keras.models import Sequential \n",
    "from keras.layers import LSTM, Dense, Dropout\n",
    "\n",
    "model = Sequential()\n",
    "model.add(LSTM(4, input_shape=(None, num_of_dims)))\n",
    "model.add(Dropout(0.5))\n",
    "model.add(Dense(1, activation='sigmoid'))\n",
    "\n",
    "model.summary()\n",
    "\n",
    "model.compile(optimizer='rmsprop',\n",
    "              loss='binary_crossentropy',\n",
    "              metrics=['accuracy'])\n",
    "\n",
    "\n",
    "from sklearn.utils import class_weight\n",
    "\n",
    "train_y_temp = [y.item() for y in train_y]\n",
    "\n",
    "class_weights = class_weight.compute_class_weight('balanced',\n",
    "                                                 np.unique(train_y_temp),\n",
    "                                                 train_y_temp)\n",
    "\n",
    "\n",
    "model.fit_generator(data_generator(train_x,train_y, 60), steps_per_epoch = num_of_unique_subjects_train, epochs = 60, verbose = 1, class_weight=class_weights)\n"
   ]
  },
  {
   "cell_type": "code",
   "execution_count": 300,
   "metadata": {},
   "outputs": [],
   "source": [
    "predictions = model.predict_generator(data_generator(test_x, test_y, 1), steps = num_of_unique_subjects_test) > 0.5"
   ]
  },
  {
   "cell_type": "code",
   "execution_count": 301,
   "metadata": {},
   "outputs": [
    {
     "data": {
      "text/plain": [
       "array([[54,  7],\n",
       "       [16,  4]], dtype=int64)"
      ]
     },
     "execution_count": 301,
     "metadata": {},
     "output_type": "execute_result"
    }
   ],
   "source": [
    "from sklearn.metrics import confusion_matrix\n",
    "\n",
    "confusion_matrix(test_y, predictions)"
   ]
  },
  {
   "cell_type": "code",
   "execution_count": 302,
   "metadata": {},
   "outputs": [
    {
     "name": "stdout",
     "output_type": "stream",
     "text": [
      "0.7160493827160493\n",
      "0.2\n",
      "0.25806451612903225\n",
      "0.542622950819672\n"
     ]
    }
   ],
   "source": [
    "from sklearn import metrics as met\n",
    "\n",
    "print(met.accuracy_score(test_y, predictions))\n",
    "print(met.recall_score(test_y, predictions))\n",
    "print(met.f1_score(test_y, predictions))\n",
    "print(met.roc_auc_score(test_y, predictions))"
   ]
  },
  {
   "cell_type": "code",
   "execution_count": null,
   "metadata": {},
   "outputs": [],
   "source": []
  }
 ],
 "metadata": {
  "kernelspec": {
   "display_name": "Python 3",
   "language": "python",
   "name": "python3"
  },
  "language_info": {
   "codemirror_mode": {
    "name": "ipython",
    "version": 3
   },
   "file_extension": ".py",
   "mimetype": "text/x-python",
   "name": "python",
   "nbconvert_exporter": "python",
   "pygments_lexer": "ipython3",
   "version": "3.7.1"
  }
 },
 "nbformat": 4,
 "nbformat_minor": 2
}
