{
 "cells": [
  {
   "cell_type": "markdown",
   "metadata": {},
   "source": [
    "### Todo"
   ]
  },
  {
   "cell_type": "markdown",
   "metadata": {},
   "source": [
    "#### This cell is for defining various OPTIONS used for this notebook (working directory, how many rows and columns pandas displays for a dataframe, etc). \n",
    "\n",
    "#### Preferably this cell is also where we do important imports (for example pandas and numpy)"
   ]
  },
  {
   "cell_type": "code",
   "execution_count": 11,
   "metadata": {},
   "outputs": [],
   "source": [
    "import os \n",
    "#Input the directory where your joined_data.csv is located \n",
    "os.chdir('C:/Users/Briggstone/Documents/Master 2020/Processed data')\n",
    "#os.chdir('C:/Users/MyPC/Documents/Andrijana/UiS/DATMAS Master oppgave/Parkinson_PPMI')\n",
    "\n",
    "import pandas as pd \n",
    "import numpy as np\n",
    "\n",
    "# Set ipython's max row display\n",
    "pd.set_option('display.max_row', 1000)\n",
    "\n",
    "# Set iPython's max column width to 50\n",
    "pd.set_option('display.max_columns', 50)\n",
    "\n",
    "\n"
   ]
  },
  {
   "cell_type": "markdown",
   "metadata": {},
   "source": [
    "### In this cell we import our joined data from the csv and makes sure it looks fine"
   ]
  },
  {
   "cell_type": "code",
   "execution_count": 19,
   "metadata": {},
   "outputs": [
    {
     "data": {
      "text/plain": [
       "(1557, 131)"
      ]
     },
     "execution_count": 19,
     "metadata": {},
     "output_type": "execute_result"
    }
   ],
   "source": [
    "data = pd.read_csv('joined_data.csv') \n",
    "\n",
    "data.head(5)"
   ]
  },
  {
   "cell_type": "markdown",
   "metadata": {},
   "source": [
    "### In this cell we do missing value exploration"
   ]
  },
  {
   "cell_type": "code",
   "execution_count": 13,
   "metadata": {},
   "outputs": [
    {
     "name": "stdout",
     "output_type": "stream",
     "text": [
      "BIOMOMPD                16\n",
      "BIODADPD                16\n",
      "FULSIBPD               145\n",
      "HAFSIBPD              1572\n",
      "MAGPARPD                22\n",
      "PAGPARPD                24\n",
      "MATAUPD                141\n",
      "PATAUPD                189\n",
      "KIDSPD                 272\n",
      "UPSITBK1                 1\n",
      "UPSITBK2                 1\n",
      "UPSITBK3                 1\n",
      "UPSITBK4                 1\n",
      "NP3FTAPL                 1\n",
      "NP3HMOVL                 1\n",
      "NP3PRSPL                 1\n",
      "NP3PSTBL                 8\n",
      "NP3PTRMR                 1\n",
      "NP3TTAPR                 1\n",
      "MCATOT                   2\n",
      "DVT_DELAYED_RECALL       3\n",
      "JLO_TOTRAW               3\n",
      "GDSSATIS                 1\n",
      "GDSHAPPY                 1\n",
      "GDSENRGY                 2\n",
      "ESS1                     1\n",
      "ESS2                     1\n",
      "ESS3                     1\n",
      "ESS4                     1\n",
      "ESS5                     1\n",
      "ESS6                     1\n",
      "ESS7                     1\n",
      "ESS8                     3\n",
      "SCAU1                    1\n",
      "SCAU2                    1\n",
      "SCAU3                    2\n",
      "SCAU4                    1\n",
      "SCAU5                    1\n",
      "SCAU6                    1\n",
      "SCAU7                    9\n",
      "SCAU8                    1\n",
      "SCAU9                    1\n",
      "SCAU10                   1\n",
      "SCAU11                   2\n",
      "SCAU12                   2\n",
      "SCAU13                   1\n",
      "SCAU14                   1\n",
      "SCAU15                   1\n",
      "SCAU16                   1\n",
      "SCAU17                   1\n",
      "SCAU18                   2\n",
      "SCAU19                   1\n",
      "SCAU20                   1\n",
      "SCAU21                   2\n",
      "SCAU22                 788\n",
      "SCAU23                 788\n",
      "SCAU24                1557\n",
      "SCAU25                1557\n",
      "DRMNOCTB                 6\n",
      "SLPLMBMV                 1\n",
      "SLPINJUR                 2\n",
      "DRMVERBL                 1\n",
      "DRMFIGHT                 2\n",
      "DRMUMV                   2\n",
      "DRMOBJFL                 1\n",
      "CNSOTH                  25\n",
      "dtype: int64\n",
      "\n",
      " PATNO with missing non-trivial entries\n",
      "425\n",
      "\n",
      "Entries with missing NP3PTRMR\n"
     ]
    },
    {
     "ename": "NameError",
     "evalue": "name 'LED' is not defined",
     "output_type": "error",
     "traceback": [
      "\u001b[1;31m---------------------------------------------------------------------------\u001b[0m",
      "\u001b[1;31mNameError\u001b[0m                                 Traceback (most recent call last)",
      "\u001b[1;32m<ipython-input-13-06dfe7a50ecb>\u001b[0m in \u001b[0;36m<module>\u001b[1;34m\u001b[0m\n\u001b[0;32m     14\u001b[0m \u001b[1;31m# \"NP2TRMR\", \"NP3PTRMR\", \"NP3PTRML\", \"NP3KTRMR\", \"NP3KTRML\", \"NP3RTARU\", \"NP3RTALU\", \"NP3RTARL\", \"NP3RTALL\", \"NP3RTALJ\", \"NP3RTCON\"\u001b[0m\u001b[1;33m\u001b[0m\u001b[1;33m\u001b[0m\u001b[1;33m\u001b[0m\u001b[0m\n\u001b[0;32m     15\u001b[0m \u001b[0mprint\u001b[0m\u001b[1;33m(\u001b[0m\u001b[1;34m\"\\nEntries with missing NP3PTRMR\"\u001b[0m\u001b[1;33m)\u001b[0m\u001b[1;33m\u001b[0m\u001b[1;33m\u001b[0m\u001b[0m\n\u001b[1;32m---> 16\u001b[1;33m \u001b[0mprint\u001b[0m\u001b[1;33m(\u001b[0m\u001b[0mdata\u001b[0m\u001b[1;33m[\u001b[0m\u001b[0mdata\u001b[0m\u001b[1;33m[\u001b[0m\u001b[1;34m'NP3PTRMR'\u001b[0m\u001b[1;33m]\u001b[0m\u001b[1;33m.\u001b[0m\u001b[0misnull\u001b[0m\u001b[1;33m(\u001b[0m\u001b[1;33m)\u001b[0m\u001b[1;33m]\u001b[0m\u001b[1;33m[\u001b[0m\u001b[1;33m[\u001b[0m\u001b[1;34m\"PATNO\"\u001b[0m\u001b[1;33m,\u001b[0m \u001b[0mLED\u001b[0m\u001b[1;33m[\u001b[0m\u001b[0mlong_flag\u001b[0m\u001b[1;33m]\u001b[0m\u001b[1;33m,\u001b[0m \u001b[1;34m\"NP3PTRMR\"\u001b[0m\u001b[1;33m]\u001b[0m\u001b[1;33m]\u001b[0m\u001b[1;33m.\u001b[0m\u001b[0mPATNO\u001b[0m\u001b[1;33m.\u001b[0m\u001b[0munique\u001b[0m\u001b[1;33m(\u001b[0m\u001b[1;33m)\u001b[0m\u001b[1;33m)\u001b[0m\u001b[1;33m\u001b[0m\u001b[1;33m\u001b[0m\u001b[0m\n\u001b[0m\u001b[0;32m     17\u001b[0m \u001b[1;33m\u001b[0m\u001b[0m\n\u001b[0;32m     18\u001b[0m \u001b[1;31m# PGID is a score depending on:\u001b[0m\u001b[1;33m\u001b[0m\u001b[1;33m\u001b[0m\u001b[1;33m\u001b[0m\u001b[0m\n",
      "\u001b[1;31mNameError\u001b[0m: name 'LED' is not defined"
     ]
    }
   ],
   "source": [
    "null_columns=data.columns[data.isnull().any()]\n",
    "print(data[null_columns].isnull().sum())\n",
    "\n",
    "print(\"\\n PATNO with missing non-trivial entries\")\n",
    "null_data = data[data.isnull().any(axis=1)]\n",
    "print(null_data.PATNO.unique().size)\n",
    "\n",
    "\n",
    "\n",
    "\n",
    "\n",
    "\n",
    "# TREMOR is a score depending on: \n",
    "# \"NP2TRMR\", \"NP3PTRMR\", \"NP3PTRML\", \"NP3KTRMR\", \"NP3KTRML\", \"NP3RTARU\", \"NP3RTALU\", \"NP3RTARL\", \"NP3RTALL\", \"NP3RTALJ\", \"NP3RTCON\"\n",
    "print(\"\\nEntries with missing NP3PTRMR\")\n",
    "print(data[data['NP3PTRMR'].isnull()][[\"PATNO\", LED[long_flag], \"NP3PTRMR\"]].PATNO.unique())\n",
    "\n",
    "# PGID is a score depending on:\n",
    "# \"NP2WALK\", \"NP2FREZ\", \"NP3GAIT\", \"NP3FRZGT\", \"NP3PSTBL\"\n",
    "print(\"\\nEntries with missing NP3PSTBL\")\n",
    "print(data[data['NP3PSTBL'].isnull()][[\"PATNO\", LED[long_flag], \"NP3PSTBL\"]].PATNO.unique())\n",
    "\n"
   ]
  },
  {
   "cell_type": "markdown",
   "metadata": {},
   "source": [
    "#### In this cell we process missing values"
   ]
  },
  {
   "cell_type": "code",
   "execution_count": null,
   "metadata": {},
   "outputs": [],
   "source": [
    "# We deal with missing demographic PD questions by filling the missing entries with no. \n",
    "# The rationale is that the proportion of subjects who answers 0 in the non-missing entries is much larger than the proportion of subjects who answers 1 in the non-missing entries\n",
    "vars = [\"BIOMOMPD\",\"BIODADPD\", \"FULSIBPD\", \"HAFSIBPD\", \"MAGPARPD\", \"PAGPARPD\", \"MATAUPD\", \"PATAUPD\", \"KIDSPD\" ]\n",
    "data [vars] = data[vars].fillna(0)\n",
    "\n",
    "# TEMPORARY FIX: We deal with missing UPSIT data by deleting subject with PATNO 3413\n",
    "#index = data[data.PATNO == 3413].index\n",
    "#data.drop(axis = 0, index = index, inplace = True)\n",
    "\n",
    "\n"
   ]
  },
  {
   "cell_type": "code",
   "execution_count": null,
   "metadata": {},
   "outputs": [],
   "source": []
  }
 ],
 "metadata": {
  "kernelspec": {
   "display_name": "Python 3",
   "language": "python",
   "name": "python3"
  },
  "language_info": {
   "codemirror_mode": {
    "name": "ipython",
    "version": 3
   },
   "file_extension": ".py",
   "mimetype": "text/x-python",
   "name": "python",
   "nbconvert_exporter": "python",
   "pygments_lexer": "ipython3",
   "version": "3.7.1"
  }
 },
 "nbformat": 4,
 "nbformat_minor": 2
}
