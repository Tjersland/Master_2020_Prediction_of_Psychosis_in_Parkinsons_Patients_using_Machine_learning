{
 "cells": [
  {
   "cell_type": "code",
   "execution_count": 2,
   "metadata": {},
   "outputs": [],
   "source": [
    "#This cell is for defining various OPTIONS\n",
    "\n",
    "import os \n",
    "#Input the directory where your database is located \n",
    "os.chdir('C:/Users/Trond/Documents/Master 2020/Parkinson_PPMI')\n",
    "\n",
    "import pandas as pd \n",
    "# Set ipython's max row display\n",
    "pd.set_option('display.max_row', 1000)\n",
    "\n",
    "# Set iPython's max column width to 50\n",
    "pd.set_option('display.max_columns', 50)\n",
    "\n",
    "# Set this flag to 1 if using event_id for longitudinal joining or 0 if using infodt\n",
    "long_flag = 1\n",
    "LED = [\"INFODT\", \"EVENT_ID\"]"
   ]
  },
  {
   "cell_type": "code",
   "execution_count": 3,
   "metadata": {},
   "outputs": [
    {
     "name": "stdout",
     "output_type": "stream",
     "text": [
      "Number of total subjects in original data table:  2200\n",
      "Number of subjects with parkinson's in data table: 489\n"
     ]
    }
   ],
   "source": [
    "#Reading the data table Screening demographics into a pandas dataframe\n",
    "data = pd.read_csv('_Subject_Characteristics/Screening___Demographics.csv') \n",
    "print(\"Number of total subjects in original data table: \", data.shape[0])\n",
    "\n",
    "#Discarding indviduals that do not have confirmed parkinson's, Everyone except APPRDX == 1.\n",
    "data = data.loc[data.APPRDX == 1]\n",
    "print(\"Number of subjects with parkinson's in data table:\", data.shape[0])\n",
    "\n",
    "#Selecting only PATNO column and reseting index (0-1-2 instead of 2-6-9). Index was weird due to dropping columns in the previous lines. \n",
    "PatNr = data.loc[:, \"PATNO\"].reset_index(drop = True)\n",
    "PatNr = pd.DataFrame(PatNr)\n"
   ]
  },
  {
   "cell_type": "code",
   "execution_count": 6,
   "metadata": {},
   "outputs": [
    {
     "name": "stdout",
     "output_type": "stream",
     "text": [
      "PATNO       0\n",
      "EVENT_ID    0\n",
      "MCATOT      2\n",
      "dtype: int64\n",
      "      PATNO EVENT_ID  MCATOT\n",
      "1126   3076      V08     NaN\n",
      "1127   3076      V10     NaN\n"
     ]
    }
   ],
   "source": [
    "#Explore Montreal \n",
    "MOCA = pd.read_csv(\"Non-motor_Assessments/Montreal_Cognitive_Assessment__MoCA_.csv\").loc[:,[\"PATNO\", LED[long_flag], \"MCATOT\"]]\n",
    "MOCA = MOCA.merge(PatNr, how = \"inner\", on = \"PATNO\")\n",
    "\n",
    "print(MOCA.isnull().sum())\n",
    "\n",
    "null_data = MOCA[MOCA.isnull().any(axis=1)]\n",
    "print(null_data)"
   ]
  },
  {
   "cell_type": "code",
   "execution_count": 7,
   "metadata": {},
   "outputs": [
    {
     "name": "stdout",
     "output_type": "stream",
     "text": [
      "PATNO                 0\n",
      "EVENT_ID              0\n",
      "DVT_DELAYED_RECALL    6\n",
      "dtype: int64\n",
      "      PATNO EVENT_ID  DVT_DELAYED_RECALL\n",
      "213    3001      V14                 NaN\n",
      "273    3061      V08                 NaN\n",
      "292    3601      V14                 NaN\n",
      "644    3856      V13                 NaN\n",
      "645    3856      V14                 NaN\n",
      "2307   3028      V12                 NaN\n"
     ]
    }
   ],
   "source": [
    "#Explore Hopkins\n",
    "HPLT = pd.read_csv(\"Non-motor_Assessments/Hopkins_Verbal_Learning_Test.csv\").loc[:,[\"PATNO\", LED[long_flag], \"DVT_DELAYED_RECALL\"]]\n",
    "HPLT = HPLT.merge(PatNr, how = \"inner\", on = \"PATNO\")\n",
    "\n",
    "print(HPLT.isnull().sum())\n",
    "\n",
    "null_data = HPLT[HPLT.isnull().any(axis=1)]\n",
    "print(null_data)"
   ]
  }
 ],
 "metadata": {
  "kernelspec": {
   "display_name": "Python 3",
   "language": "python",
   "name": "python3"
  },
  "language_info": {
   "codemirror_mode": {
    "name": "ipython",
    "version": 3
   },
   "file_extension": ".py",
   "mimetype": "text/x-python",
   "name": "python",
   "nbconvert_exporter": "python",
   "pygments_lexer": "ipython3",
   "version": "3.7.0"
  }
 },
 "nbformat": 4,
 "nbformat_minor": 2
}
