{
 "cells": [
  {
   "cell_type": "code",
   "execution_count": 37,
   "metadata": {},
   "outputs": [],
   "source": [
    "import pandas as pd\n",
    "import numpy as np"
   ]
  },
  {
   "cell_type": "code",
   "execution_count": 3,
   "metadata": {},
   "outputs": [
    {
     "data": {
      "text/plain": [
       "'C:\\\\Users\\\\MyPC\\\\Documents\\\\Andrijana\\\\UiS\\\\DATMAS Master oppgave\\\\Parkinson_PPMI'"
      ]
     },
     "execution_count": 3,
     "metadata": {},
     "output_type": "execute_result"
    }
   ],
   "source": [
    "#os.getcwd()"
   ]
  },
  {
   "cell_type": "code",
   "execution_count": 4,
   "metadata": {},
   "outputs": [],
   "source": [
    "#!dir ..\\Parkinson_PPMI\\_Subject_Characteristics"
   ]
  },
  {
   "cell_type": "code",
   "execution_count": 5,
   "metadata": {},
   "outputs": [],
   "source": [
    "#!dir ..\\Parkinson_PPMI\\Non-motor_Assessments"
   ]
  },
  {
   "cell_type": "code",
   "execution_count": 6,
   "metadata": {},
   "outputs": [],
   "source": [
    "#!dir ..\\Parkinson_PPMI\\Motor___MDS-UPDRS"
   ]
  },
  {
   "cell_type": "code",
   "execution_count": null,
   "metadata": {},
   "outputs": [],
   "source": []
  },
  {
   "cell_type": "code",
   "execution_count": 52,
   "metadata": {},
   "outputs": [],
   "source": [
    "# preprocessing\n",
    "vlt_sum = sf_df.VLTANIM + sf_df.VLTVEG + sf_df.VLTFRUIT\n",
    "sf_df['VLTTOT'] = vlt_sum\n",
    "gdss_sum = gdss_df.GDSSATIS + gdss_df.GDSDROPD + gdss_df.GDSEMPTY + gdss_df.GDSBORED + gdss_df.GDSGSPIR + gdss_df.GDSAFRAD + gdss_df.GDSHAPPY + gdss_df.GDSHLPLS + gdss_df.GDSHOME + gdss_df.GDSMEMRY + gdss_df.GDSALIVE + gdss_df.GDSWRTLS + gdss_df.GDSENRGY + gdss_df.GDSHOPLS + gdss_df.GDSBETER\n",
    "gdss_df['GDSSTOT'] = gdss_sum\n",
    "upsidt_sum = upsidt_df.UPSITBK1 + upsidt_df.UPSITBK2 + upsidt_df.UPSITBK3 + upsidt_df.UPSITBK4\n",
    "upsidt_df['SIDTTOT'] = upsidt_sum\n",
    "ess_sum = ess_df.ESS1 + ess_df.ESS2 + ess_df.ESS3 + ess_df.ESS4 + ess_df.ESS5 + ess_df.ESS6 + ess_df.ESS7 + ess_df.ESS8\n",
    "ess_df['EPSSTOT'] = ess_sum\n",
    "exclude = ['REC_ID', 'F_STATUS', 'PATNO', 'EVENT_ID', 'PAG_NAME', 'INFODT','PTCGBOTH', 'SCAU23A', 'SCAU23AT', 'SCAU26A', 'SCAU26AT', 'SCAU26B', 'SCAU26BT', 'SCAU26C', 'SCAU26CT', 'SCAU26D', 'SCAU26DT', 'ORIG_ENTRY', 'LAST_UPDATE', 'QUERY', 'SITE_APRV'] \n",
    "#SCOPAAUT is not a simple sum and needs additional preprocessing to get total score\n",
    "# In SCAU1-21, 9 is converted to 3. In SCAU22-25, 9 is converted to 0\n",
    "for i in range(1,26):\n",
    "    s = \"SCAU\" + str(i)\n",
    "    points = 0\n",
    "    if i < 22:\n",
    "        points = 3\n",
    "    scopaaut_df.loc[scopaaut_df[s] == 9, s] = points  \n",
    "scopaaut_df['SCOPTOT'] = scopaaut_df.drop(exclude, axis = 1).sum(axis = 1, skipna = True )\n",
    "exclude = ['REC_ID', 'F_STATUS', 'PATNO', 'EVENT_ID', 'PAG_NAME', 'INFODT', 'CMEDTM', 'EXAMTM', 'DYSKPRES', 'DYSKIRAT', 'NHY', 'ANNUAL_TIME_BTW_DOSE_NUPDRS', 'ON_OFF_DOSE', 'PD_MED_USE', 'ORIG_ENTRY', 'LAST_UPDATE', 'QUERY', 'SITE_APRV'] \n",
    "mdsupdrs3_df['NP3TOT'] = mdsupdrs3_df.drop(exclude, axis = 1).sum(axis = 1, skipna = True )\n"
   ]
  },
  {
   "cell_type": "code",
   "execution_count": 36,
   "metadata": {},
   "outputs": [],
   "source": [
    "import os\n",
    "os.getcwd()\n",
    "os.chdir('C:\\\\Users\\\\MyPC\\\\Documents\\\\Andrijana\\\\UiS\\\\DATMAS Master oppgave\\\\Parkinson_PPMI')"
   ]
  },
  {
   "cell_type": "code",
   "execution_count": 60,
   "metadata": {},
   "outputs": [
    {
     "name": "stdout",
     "output_type": "stream",
     "text": [
      "PD subject recognized from SD 489\n",
      "PD subject recognized after joining SE 477\n",
      "PD subject recognized after joining FHPD 472\n",
      "PD subject recognized after joining SD 472\n",
      "PD subject recognized after joining UPSIDT 427\n",
      "PD subject recognized after joining MDSUPDRS3 427\n",
      "PD subject recognized after joining MDSUPDRS1 427\n",
      "['PATNO' 'EDUCYRS' 'BIOMOMPD' 'BIODADPD' 'FULSIBPD' 'HAFSIBPD' 'MAGPARPD'\n",
      " 'PAGPARPD' 'MATAUPD' 'PATAUPD' 'KIDSPD' 'BIRTHDT' 'PRJENRDT' 'SIDTTOT'\n",
      " 'INFODT' 'NP3TOT' 'PD_MED_USE' 'NP1HALL' 'NP1COG']\n",
      "PD subject recognized after joining MCAM 427\n",
      "PD subject recognized after joining HVLT 408\n",
      "PD subject recognized after joining BJLO 408\n",
      "PD subject recognized after joining LNSPD 408\n",
      "PD subject recognized after joining SF 408\n",
      "PD subject recognized after joining GDSS 407\n",
      "PD subject recognized after joining ESS 407\n",
      "PD subject recognized after joining SCOPAAUT 407\n"
     ]
    }
   ],
   "source": [
    "# demografics data joined\n",
    "sd1_df = sd_df[sd_df['APPRDX'] == 1]['PATNO']\n",
    "print(\"PD subject recognized from SD\", sd1_df.shape[0])\n",
    "res = pd.merge(sd1_df, se_df[['PATNO', 'EDUCYRS']], how='inner', on='PATNO') \n",
    "print(\"PD subject recognized after joining SE\", len(res.PATNO.unique()))\n",
    "res = pd.merge(res, fhpd_df[['PATNO', 'BIOMOMPD', 'BIODADPD', 'FULSIBPD', 'HAFSIBPD', 'MAGPARPD', 'PAGPARPD', 'MATAUPD', 'PATAUPD', 'KIDSPD']], how='inner', on='PATNO') \n",
    "print(\"PD subject recognized after joining FHPD\", len(res.PATNO.unique()))\n",
    "res = pd.merge(res, sd_df[['PATNO', 'BIRTHDT', 'PRJENRDT']], how='inner', on='PATNO') \n",
    "print(\"PD subject recognized after joining SD\", len(res.PATNO.unique()))\n",
    "\n",
    "res = pd.merge(res, upsidt_df[['PATNO', 'SIDTTOT']], how='inner', on=['PATNO'])\n",
    "print(\"PD subject recognized after joining UPSIDT\", len(res.PATNO.unique()))\n",
    "# print(res.columns.values)\n",
    "\n",
    "# motor (longitudinal)\n",
    "res = pd.merge(res, mdsupdrs3_df[['PATNO', 'INFODT', 'NP3TOT', 'PD_MED_USE']], how='inner', on='PATNO')\n",
    "print(\"PD subject recognized after joining MDSUPDRS3\", len(res.PATNO.unique()))\n",
    "res = pd.merge(res, mdsupdrs1_df[['PATNO', 'INFODT', 'NP1HALL', 'NP1COG']], how='inner', on=['PATNO', 'INFODT'])\n",
    "print(\"PD subject recognized after joining MDSUPDRS1\", len(res.PATNO.unique()))\n",
    "print(res.columns.values)\n",
    "# print(res.columns.values)\n",
    "\n",
    "# non-motor data joined (longitudinal)\n",
    "res = pd.merge(res, mcam_df[['PATNO', 'MCATOT', 'INFODT']], how='inner', on=['PATNO', 'INFODT']) \n",
    "print(\"PD subject recognized after joining MCAM\", len(res.PATNO.unique()))\n",
    "# print(res.columns.values)\n",
    "res = pd.merge(res, hvlt_df[['PATNO', 'INFODT', 'DVT_DELAYED_RECALL']], how='inner', on=['PATNO', 'INFODT'])\n",
    "print(\"PD subject recognized after joining HVLT\", len(res.PATNO.unique()))\n",
    "# print(res.columns.values)\n",
    "res = pd.merge(res, bjlo_df[['PATNO', 'INFODT', 'JLO_TOTRAW']], how='inner', on=['PATNO', 'INFODT'])\n",
    "print(\"PD subject recognized after joining BJLO\", len(res.PATNO.unique()))\n",
    "# print(res.columns.values)\n",
    "res = pd.merge(res, lnspd_df[['PATNO', 'INFODT', 'LNS_TOTRAW']], how='inner', on=['PATNO', 'INFODT'])\n",
    "print(\"PD subject recognized after joining LNSPD\", len(res.PATNO.unique()))\n",
    "# print(res.columns.values)\n",
    "res = pd.merge(res, sf_df[['PATNO', 'INFODT', 'VLTTOT']], how='inner', on=['PATNO', 'INFODT'])\n",
    "print(\"PD subject recognized after joining SF\", len(res.PATNO.unique()))\n",
    "# print(res.columns.values)\n",
    "#res = pd.merge(res, frembd_df[['PATNO', 'FRBDTOT']], how='inner', on=['PATNO'])\n",
    "#print(\"PD subject recognized after joining FREMBD\", len(res.PATNO.unique()))\n",
    "res = pd.merge(res, gdss_df[['PATNO', 'INFODT', 'GDSSTOT']], how='inner', on=['PATNO', 'INFODT'])\n",
    "print(\"PD subject recognized after joining GDSS\", len(res.PATNO.unique()))\n",
    "# print(res.columns.values)\n",
    "res = pd.merge(res, ess_df[['PATNO', 'INFODT', 'EPSSTOT']], how='inner', on=['PATNO', 'INFODT'])\n",
    "print(\"PD subject recognized after joining ESS\", len(res.PATNO.unique()))\n",
    "# print(res.columns.values)\n",
    "res = pd.merge(res, scopaaut_df[['PATNO', 'INFODT','SCOPTOT']], how='inner', on=['PATNO', 'INFODT'])\n",
    "print(\"PD subject recognized after joining SCOPAAUT\", len(res.PATNO.unique()))\n",
    "# print(res.columns.values)"
   ]
  },
  {
   "cell_type": "code",
   "execution_count": 33,
   "metadata": {},
   "outputs": [],
   "source": [
    "res = pd.merge(res, mdsupdrs1_df[['PATNO', 'INFODT', 'NP1HALL', 'NP1COG']], how='inner', on=['PATNO', 'INFODT'])\n",
    "print(\"PD subject recognized after joining MDSUPDRS1\", len(res.PATNO.unique()))\n",
    "print(res.columns.values)\n",
    "\n",
    "# demografics data joined\n",
    "sd1_df = sd_df[sd_df['APPRDX'] == 1]['PATNO']\n",
    "print(\"PD subject recognized from SD\", sd1_df.shape[0])\n",
    "res = pd.merge(sd1_df, se_df[['PATNO', 'EDUCYRS']], how='inner', on='PATNO') \n",
    "print(\"PD subject recognized after joining SE\", len(res.PATNO.unique()))\n",
    "res = pd.merge(res, fhpd_df[['PATNO', 'BIOMOMPD', 'BIODADPD', 'FULSIBPD', 'HAFSIBPD', 'MAGPARPD', 'PAGPARPD', 'MATAUPD', 'PATAUPD', 'KIDSPD']], how='inner', on='PATNO') \n",
    "print(\"PD subject recognized after joining FHPD\", len(res.PATNO.unique()))\n",
    "res = pd.merge(res, sd_df[['PATNO', 'BIRTHDT', 'PRJENRDT']], how='inner', on='PATNO') \n",
    "print(\"PD subject recognized after joining SD\", len(res.PATNO.unique()))\n",
    "\n",
    "res = pd.merge(res, upsidt_df[['PATNO', 'SIDTTOT']], how='inner', on=['PATNO'])\n",
    "print(\"PD subject recognized after joining UPSIDT\", len(res.PATNO.unique()))\n",
    "print(res.columns.values)\n",
    "\n",
    "# motor\n",
    "res = pd.merge(res, mdsupdrs3_df[['PATNO', 'INFODT', 'NP3TOT', 'PD_MED_USE']], how='inner', on='PATNO')\n",
    "print(\"PD subject recognized after joining MDSUPDRS3\", len(res.PATNO.unique()))\n",
    "print(res.columns.values)\n",
    "res = pd.merge(res, mdsupdrs1_df[['PATNO', 'INFODT', 'NP1HALL', 'NP1COG']], how='inner', on=['PATNO', 'INFODT'])\n",
    "print(\"PD subject recognized after joining MDSUPDRS1\", len(res.PATNO.unique()))\n",
    "print(res.columns.values)"
   ]
  },
  {
   "cell_type": "code",
   "execution_count": 61,
   "metadata": {},
   "outputs": [
    {
     "data": {
      "text/plain": [
       "(3877, 27)"
      ]
     },
     "execution_count": 61,
     "metadata": {},
     "output_type": "execute_result"
    }
   ],
   "source": [
    "res.shape"
   ]
  },
  {
   "cell_type": "code",
   "execution_count": 62,
   "metadata": {},
   "outputs": [
    {
     "data": {
      "text/plain": [
       "array(['BIODADPD', 'BIOMOMPD', 'BIRTHDT', 'DVT_DELAYED_RECALL', 'EDUCYRS',\n",
       "       'EPSSTOT', 'FULSIBPD', 'GDSSTOT', 'HAFSIBPD', 'INFODT',\n",
       "       'JLO_TOTRAW', 'KIDSPD', 'LNS_TOTRAW', 'MAGPARPD', 'MATAUPD',\n",
       "       'MCATOT', 'NP1COG', 'NP1HALL', 'NP3TOT', 'PAGPARPD', 'PATAUPD',\n",
       "       'PATNO', 'PD_MED_USE', 'PRJENRDT', 'SCOPTOT', 'SIDTTOT', 'VLTTOT'],\n",
       "      dtype=object)"
      ]
     },
     "execution_count": 62,
     "metadata": {},
     "output_type": "execute_result"
    }
   ],
   "source": [
    "np.sort(res.columns.values)"
   ]
  }
 ],
 "metadata": {
  "kernelspec": {
   "display_name": "Python 3",
   "language": "python",
   "name": "python3"
  },
  "language_info": {
   "codemirror_mode": {
    "name": "ipython",
    "version": 3
   },
   "file_extension": ".py",
   "mimetype": "text/x-python",
   "name": "python",
   "nbconvert_exporter": "python",
   "pygments_lexer": "ipython3",
   "version": "3.7.4"
  }
 },
 "nbformat": 4,
 "nbformat_minor": 4
}
