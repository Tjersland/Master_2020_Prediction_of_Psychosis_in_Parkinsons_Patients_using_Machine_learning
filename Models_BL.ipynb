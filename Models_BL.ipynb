{
 "cells": [
  {
   "cell_type": "markdown",
   "metadata": {},
   "source": [
    "### Todo"
   ]
  },
  {
   "cell_type": "markdown",
   "metadata": {},
   "source": [
    "#### This cell is for defining various OPTIONS used for this notebook (working directory, how many rows and columns pandas displays for a dataframe, etc). \n",
    "\n",
    "#### Preferably this cell is also where we do important imports (for example pandas and numpy)"
   ]
  },
  {
   "cell_type": "code",
   "execution_count": 1,
   "metadata": {},
   "outputs": [],
   "source": [
    "import os \n",
    "#Input the directory where your joined_data.csv is located \n",
    "#os.chdir('C:/Users/Trond/Documents/Master 2020/Processed data')\n",
    "os.chdir('C:/Users/Briggstone/Documents/Master 2020/Processed data')\n",
    "#os.chdir('C:/Users/MyPC/Documents/Andrijana/UiS/DATMAS Master oppgave/Processed data')\n",
    "\n",
    "#Where you want the csv file of the merged data to be placed\n",
    "output_filepath = 'C:/Users/Briggstone/Documents/Master 2020/Processed data'\n",
    "#output_filepath = 'C:/Users/MyPC/Documents/Andrijana/UiS/DATMAS Master oppgave/Processed data'\n",
    "\n",
    "from matplotlib import pyplot\n",
    "import pandas as pd \n",
    "import numpy as np\n",
    "import xgboost as xgb\n",
    "from sklearn.model_selection import train_test_split\n",
    "from sklearn.model_selection import cross_val_score\n",
    "from sklearn import svm\n",
    "\n",
    "# Set ipython's max row display\n",
    "pd.set_option('display.max_row', 1000)\n",
    "\n",
    "# Set iPython's max column width to 50\n",
    "pd.set_option('display.max_columns', 50)\n"
   ]
  },
  {
   "cell_type": "markdown",
   "metadata": {},
   "source": [
    "#### In this cell we import our training data, convert HALL into HALL_EVER and select only BL observations."
   ]
  },
  {
   "cell_type": "code",
   "execution_count": 2,
   "metadata": {},
   "outputs": [],
   "source": [
    "train = pd.read_csv('train.csv')\n",
    "temptrain = pd.DataFrame(train.PATNO.unique(), columns = [\"PATNO\"])\n",
    "\n",
    "HALL_EVER = []\n",
    "for id in train.PATNO.unique():\n",
    "    if train.loc[(train.PATNO == id) & (train.HALL == 1), \"HALL\"].empty:\n",
    "        HALL_EVER.append(0)\n",
    "    else:\n",
    "        HALL_EVER.append(1)\n",
    "\n",
    "temptrain[\"HALL_EVER\"] = HALL_EVER\n",
    "train.drop(\"HALL\", axis = 1, inplace = True)\n",
    "train = train.merge(temptrain, how = \"inner\", on = \"PATNO\")\n",
    "\n",
    "#Selecting only Baseline observations\n",
    "train = train.loc[train.EVENT_ID == \"BL\", :]\n",
    "\n",
    "#We can then safely drop EVENT_ID\n",
    "train.drop(\"EVENT_ID\", axis = 1, inplace = True)\n",
    "\n",
    "# We form Y\n",
    "Y = train.pop(\"HALL_EVER\")"
   ]
  },
  {
   "cell_type": "code",
   "execution_count": 3,
   "metadata": {},
   "outputs": [
    {
     "data": {
      "text/plain": [
       "(293, 22)"
      ]
     },
     "execution_count": 3,
     "metadata": {},
     "output_type": "execute_result"
    }
   ],
   "source": [
    "train.shape"
   ]
  },
  {
   "cell_type": "markdown",
   "metadata": {},
   "source": [
    "#### In this cell we apply random forest from XGBOOST"
   ]
  },
  {
   "cell_type": "code",
   "execution_count": 4,
   "metadata": {},
   "outputs": [
    {
     "name": "stdout",
     "output_type": "stream",
     "text": [
      "   train-error-mean  train-error-std  train-auc-mean  train-auc-std  \\\n",
      "0          0.153197         0.013717        0.940077       0.009606   \n",
      "\n",
      "   train-aucpr-mean  train-aucpr-std  test-error-mean  test-error-std  \\\n",
      "0          0.877348         0.017941         0.262414        0.075404   \n",
      "\n",
      "   test-auc-mean  test-auc-std  test-aucpr-mean  test-aucpr-std  \n",
      "0       0.626962       0.15283         0.486562        0.171873  \n"
     ]
    },
    {
     "data": {
      "image/png": "[encoded data removed]",
      "text/plain": [
       "<Figure size 432x288 with 1 Axes>"
      ]
     },
     "metadata": {
      "needs_background": "light"
     },
     "output_type": "display_data"
    }
   ],
   "source": [
    "dtrain = xgb.DMatrix(train, label = Y)\n",
    "\n",
    "\n",
    "#Random Forest\n",
    "params = {\n",
    "  'colsample_bynode': 0.8,\n",
    "  'learning_rate': 1,\n",
    "  'max_depth': 5,\n",
    "  'num_parallel_tree': 100,\n",
    "  'objective': 'binary:logistic',\n",
    "  'subsample': 0.8,\n",
    "  'tree_method': 'auto'\n",
    "}\n",
    "\n",
    "cv_results_RF = xgb.cv(params, dtrain = dtrain, num_boost_round=1, nfold = 10, as_pandas = True, seed = 1, metrics = [\"error\", \"auc\", \"aucpr\"])\n",
    "print(cv_results_RF)\n",
    "\n",
    "model_RF = xgb.train(params, dtrain, num_boost_round=1)\n",
    "xgb.plot_importance(model_RF)\n",
    "pyplot.show()"
   ]
  },
  {
   "cell_type": "markdown",
   "metadata": {},
   "source": [
    "#### In this cell we apply random forest from XGBOOST"
   ]
  },
  {
   "cell_type": "code",
   "execution_count": 5,
   "metadata": {},
   "outputs": [
    {
     "name": "stdout",
     "output_type": "stream",
     "text": [
      "   train-error-mean  train-error-std  train-auc-mean  train-auc-std  \\\n",
      "0          0.156232         0.013033        0.862937       0.027906   \n",
      "1          0.124767         0.011462        0.930231       0.014878   \n",
      "2          0.108453         0.010569        0.960893       0.010525   \n",
      "3          0.087977         0.011834        0.980617       0.005354   \n",
      "4          0.072809         0.010411        0.989722       0.004287   \n",
      "5          0.053474         0.010112        0.995254       0.002271   \n",
      "6          0.040578         0.008989        0.998217       0.001393   \n",
      "7          0.029580         0.011478        0.999255       0.000636   \n",
      "8          0.020099         0.006574        0.999774       0.000226   \n",
      "9          0.013652         0.008160        0.999985       0.000029   \n",
      "\n",
      "   train-aucpr-mean  train-aucpr-std  test-error-mean  test-error-std  \\\n",
      "0          0.768329         0.031719         0.330805        0.107947   \n",
      "1          0.870377         0.020673         0.313678        0.087784   \n",
      "2          0.921172         0.016824         0.300345        0.082541   \n",
      "3          0.957008         0.011493         0.283104        0.081968   \n",
      "4          0.975713         0.010118         0.275977        0.088089   \n",
      "5          0.988232         0.006225         0.282759        0.111422   \n",
      "6          0.995166         0.003946         0.286092        0.083107   \n",
      "7          0.997941         0.001841         0.282644        0.094799   \n",
      "8          0.999386         0.000638         0.279310        0.094880   \n",
      "9          0.999959         0.000081         0.286207        0.076260   \n",
      "\n",
      "   test-auc-mean  test-auc-std  test-aucpr-mean  test-aucpr-std  \n",
      "0       0.561275      0.159577         0.355584        0.151348  \n",
      "1       0.550909      0.154683         0.374163        0.156233  \n",
      "2       0.594379      0.151358         0.423405        0.163277  \n",
      "3       0.630366      0.149200         0.425393        0.152053  \n",
      "4       0.627698      0.142531         0.434662        0.167117  \n",
      "5       0.622048      0.134166         0.430220        0.157538  \n",
      "6       0.631598      0.124592         0.440974        0.142467  \n",
      "7       0.641570      0.117556         0.471040        0.149422  \n",
      "8       0.644442      0.130304         0.462142        0.136342  \n",
      "9       0.634921      0.121554         0.457078        0.137588  \n"
     ]
    },
    {
     "data": {
      "image/png": "[encoded data removed]",
      "text/plain": [
       "<Figure size 432x288 with 1 Axes>"
      ]
     },
     "metadata": {
      "needs_background": "light"
     },
     "output_type": "display_data"
    }
   ],
   "source": [
    "#Boosted trees\n",
    "params = {\n",
    "  'objective': 'binary:logistic',\n",
    "  'tree_method': 'auto'\n",
    "}\n",
    "\n",
    "cv_results_BT = xgb.cv(params, dtrain = dtrain, num_boost_round=10, nfold = 10, as_pandas = True, seed = 1, metrics = [\"error\", \"auc\", \"aucpr\"])\n",
    "print(cv_results_BT)\n",
    "\n",
    "model_BT = xgb.train(params, dtrain, num_boost_round=10)\n",
    "xgb.plot_importance(model_BT)\n",
    "pyplot.show()"
   ]
  },
  {
   "cell_type": "markdown",
   "metadata": {},
   "source": [
    "#### In this cell we apply SVM from scikit-learn"
   ]
  },
  {
   "cell_type": "code",
   "execution_count": 6,
   "metadata": {},
   "outputs": [
    {
     "data": {
      "text/plain": [
       "array([0.59090909, 0.49431818, 0.40340909, 0.45238095, 0.49404762,\n",
       "       0.46428571, 0.60714286, 0.45833333, 0.33333333, 0.29761905])"
      ]
     },
     "execution_count": 6,
     "metadata": {},
     "output_type": "execute_result"
    }
   ],
   "source": [
    "clf1 = svm.SVC(random_state=0, gamma='auto', kernel='rbf')\n",
    "roc_auc1 = cross_val_score(clf1, train, Y, cv=10, scoring='roc_auc')\n",
    "roc_auc1"
   ]
  },
  {
   "cell_type": "code",
   "execution_count": 7,
   "metadata": {},
   "outputs": [
    {
     "data": {
      "text/plain": [
       "array([0.73333333, 0.73333333, 0.63333333, 0.68965517, 0.72413793,\n",
       "       0.68965517, 0.72413793, 0.72413793, 0.68965517, 0.72413793])"
      ]
     },
     "execution_count": 7,
     "metadata": {},
     "output_type": "execute_result"
    }
   ],
   "source": [
    "accuracy1 = cross_val_score(clf1, train, Y, cv=10, scoring='accuracy')\n",
    "accuracy1"
   ]
  },
  {
   "cell_type": "code",
   "execution_count": 8,
   "metadata": {},
   "outputs": [
    {
     "data": {
      "text/plain": [
       "array([0.65909091, 0.63068182, 0.57386364, 0.5       , 0.57738095,\n",
       "       0.70238095, 0.72619048, 0.57738095, 0.76190476, 0.66666667])"
      ]
     },
     "execution_count": 8,
     "metadata": {},
     "output_type": "execute_result"
    }
   ],
   "source": [
    "clf2 = svm.SVC(random_state=0, gamma='auto', kernel='linear')\n",
    "roc_auc2 = cross_val_score(clf2, train, Y, cv=10, scoring='roc_auc')\n",
    "roc_auc2"
   ]
  },
  {
   "cell_type": "code",
   "execution_count": 9,
   "metadata": {},
   "outputs": [
    {
     "data": {
      "text/plain": [
       "array([0.66666667, 0.73333333, 0.7       , 0.65517241, 0.75862069,\n",
       "       0.75862069, 0.79310345, 0.68965517, 0.79310345, 0.75862069])"
      ]
     },
     "execution_count": 9,
     "metadata": {},
     "output_type": "execute_result"
    }
   ],
   "source": [
    "accuracy2 = cross_val_score(clf2, train, Y, cv=10, scoring='accuracy')\n",
    "accuracy2"
   ]
  },
  {
   "cell_type": "code",
   "execution_count": null,
   "metadata": {},
   "outputs": [],
   "source": []
  }
 ],
 "metadata": {
  "kernelspec": {
   "display_name": "Python 3",
   "language": "python",
   "name": "python3"
  },
  "language_info": {
   "codemirror_mode": {
    "name": "ipython",
    "version": 3
   },
   "file_extension": ".py",
   "mimetype": "text/x-python",
   "name": "python",
   "nbconvert_exporter": "python",
   "pygments_lexer": "ipython3",
   "version": "3.7.1"
  }
 },
 "nbformat": 4,
 "nbformat_minor": 4
}
