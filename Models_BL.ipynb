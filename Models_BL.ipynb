{
 "cells": [
  {
   "cell_type": "markdown",
   "metadata": {},
   "source": [
    "### Todo\n",
    "\n",
    "Add and tune a simple model in order to see if our more complex models are worth it. Reference model # DONE\n",
    "\n",
    "Tune our complex models\n",
    "\n",
    "Try PCA/Auto encoder approaches"
   ]
  },
  {
   "cell_type": "markdown",
   "metadata": {},
   "source": [
    "#### This cell is for defining various OPTIONS used for this notebook (working directory, how many rows and columns pandas displays for a dataframe, etc). \n",
    "\n",
    "#### Preferably this cell is also where we do important imports (for example pandas and numpy)"
   ]
  },
  {
   "cell_type": "code",
   "execution_count": 122,
   "metadata": {},
   "outputs": [],
   "source": [
    "import os \n",
    "#Input the directory where your joined_data.csv is located \n",
    "os.chdir('C:/Users/Trond/Documents/Master 2020/Processed data')\n",
    "#os.chdir('C:/Users/Briggstone/Documents/Master 2020/Processed data')\n",
    "#os.chdir('C:/Users/MyPC/Documents/Andrijana/UiS/DATMAS Master oppgave/Processed data')\n",
    "\n",
    "#Where you want the csv file of the merged data to be placed\n",
    "output_filepath = 'C:/Users/Briggstone/Documents/Master 2020/Processed data'\n",
    "#output_filepath = 'C:/Users/MyPC/Documents/Andrijana/UiS/DATMAS Master oppgave/Processed data'\n",
    "\n",
    "from matplotlib import pyplot\n",
    "import pandas as pd \n",
    "import numpy as np\n",
    "import xgboost as xgb\n",
    "from xgboost.sklearn import XGBClassifier\n",
    "from sklearn.model_selection import train_test_split\n",
    "from sklearn.model_selection import cross_val_score\n",
    "from sklearn.model_selection import cross_validate\n",
    "from sklearn import metrics as met\n",
    "from sklearn import svm\n",
    "from sklearn.model_selection import RandomizedSearchCV\n",
    "from scipy import stats\n",
    "\n",
    "# Set ipython's max row display\n",
    "pd.set_option('display.max_row', 1000)\n",
    "\n",
    "# Set iPython's max column width to 50\n",
    "pd.set_option('display.max_columns', 50)\n",
    "\n",
    "#Here we set a seed so that our random search produce the same result \n",
    "np.random.seed(31415)\n",
    "\n",
    "# Here we create a scoring dictionary which defines the metrics we report on in cross validation\n",
    "scoring = {\n",
    "    'accuracy': met.make_scorer(met.accuracy_score),\n",
    "    'precision': met.make_scorer(met.precision_score),\n",
    "    'sensitivity': met.make_scorer(met.recall_score),\n",
    "    'specificity': met.make_scorer(met.recall_score,pos_label = 0),\n",
    "    'f1': met.make_scorer(met.f1_score),\n",
    "    'roc_auc': met.make_scorer(met.roc_auc_score)\n",
    "}\n",
    "\n",
    "refit = {'sensitivity': met.make_scorer(met.recall_score)}\n"
   ]
  },
  {
   "cell_type": "markdown",
   "metadata": {},
   "source": [
    "#### In this cell we import our training data, convert HALL into HALL_EVER and select only BL observations."
   ]
  },
  {
   "cell_type": "code",
   "execution_count": 123,
   "metadata": {},
   "outputs": [
    {
     "name": "stdout",
     "output_type": "stream",
     "text": [
      "(335, 21)\n"
     ]
    }
   ],
   "source": [
    "train = pd.read_csv('train.csv')\n",
    "temptrain = pd.DataFrame(train.PATNO.unique(), columns = [\"PATNO\"])\n",
    "\n",
    "HALL_EVER = []\n",
    "for id in train.PATNO.unique():\n",
    "    if train.loc[(train.PATNO == id) & (train.HALL == 1), \"HALL\"].empty:\n",
    "        HALL_EVER.append(0)\n",
    "    else:\n",
    "        HALL_EVER.append(1)\n",
    "\n",
    "temptrain[\"HALL_EVER\"] = HALL_EVER\n",
    "train.drop(\"HALL\", axis = 1, inplace = True)\n",
    "train = train.merge(temptrain, how = \"inner\", on = \"PATNO\")\n",
    "\n",
    "#Selecting only Baseline observations\n",
    "train = train.loc[train.EVENT_ID == \"BL\", :]\n",
    "\n",
    "#We can then safely drop EVENT_ID and PATNO\n",
    "train.drop([\"EVENT_ID\", \"PATNO\"], axis = 1, inplace = True)\n",
    "\n",
    "# We form Y\n",
    "Y = train.pop(\"HALL_EVER\")\n",
    "\n",
    "print(train.shape)"
   ]
  },
  {
   "cell_type": "code",
   "execution_count": 124,
   "metadata": {},
   "outputs": [],
   "source": [
    "import imblearn as imbl\n",
    "\n",
    "def over_sampling(model, X):\n",
    "    \n",
    "    column_types = pd.read_csv(\"Column_Data_Types_Final.csv\")\n",
    "    categorical_columns = column_types.loc[(column_types.DATA_TYPE == \"Categorical\") | (column_types.DATA_TYPE == \"Ordinal\") , \"COLUMN_NAME\"].values\n",
    "    categorical_columns = list(set(categorical_columns).intersection(set(X.columns)))\n",
    "    categorical_columns = [X.columns.get_loc(c) for c in categorical_columns if c in X]\n",
    "\n",
    "    #over = imbl.over_sampling.SMOTENC(categorical_columns, sampling_strategy = 0.8)\n",
    "    #under = imbl.under_sampling.RandomUnderSampler(sampling_strategy = 1)\n",
    "    #steps = [('o', over), ('u', under), ('m', model)]\n",
    "    pipeline = imbl.pipeline.make_pipeline(imbl.over_sampling.SMOTENC(categorical_columns, sampling_strategy = 1),\n",
    "                                          model)\n",
    "    \n",
    "    return pipeline"
   ]
  },
  {
   "cell_type": "markdown",
   "metadata": {},
   "source": [
    "#### In this cell we define general functions for hyperparameter tuning and cross validation using sklearn functions"
   ]
  },
  {
   "cell_type": "code",
   "execution_count": 127,
   "metadata": {},
   "outputs": [],
   "source": [
    "'''\n",
    "metrics from sklearn that we can put into scoring variable:\n",
    "‘accuracy’\n",
    "‘balanced_accuracy’\n",
    "‘average_precision’\n",
    "‘neg_brier_score’\n",
    "‘f1’\n",
    "‘neg_log_loss’\n",
    "‘precision’ etc.\n",
    "‘recall’ etc.\n",
    "‘jaccard’ etc.\n",
    "‘roc_auc’\n",
    "'''\n",
    "def randomized_tuning (X,Y, model, param_dist, k_folds, n_iter, scoring_metrics, scoring_refit, over_sample = False):\n",
    "    '''\n",
    "    model should be a XGBClassifier or sklearn classifier \n",
    "    param_dist can look like this, remember that it a randomized search through distributions, not a grid search:\n",
    "    param_dist = {'n_estimators': stats.randint(150, 500),\n",
    "              'learning_rate': stats.uniform(0.01, 0.07),\n",
    "              'subsample': stats.uniform(0.3, 0.7),\n",
    "              'max_depth': [3, 4, 5, 6, 7, 8, 9],\n",
    "              'colsample_bytree': stats.uniform(0.5, 0.45),\n",
    "              'min_child_weight': [1, 2, 3]\n",
    "             }\n",
    "    k_folds = number of folds in CV\n",
    "    n_iter = number of different random combination of parameters tried. More iterations gives a higher chance of finding the best parameters\n",
    "    scoring metrics = the metrics the search wil report on a the end, example: ['roc_auc', 'f1']\n",
    "    scoring_refit = The single metric that will be used to find a \"best estimator\" at the end,  pick one metric from your scoring metrics list. e.g \"f1\" or \n",
    "    set to False if manually finding best estimator\n",
    "    '''\n",
    "    if over_sample == True:\n",
    "        model= over_sampling(model, X)\n",
    "    \n",
    "    clf = RandomizedSearchCV(model, param_distributions = param_dist, cv = k_folds, n_iter = n_iter, scoring = scoring_metrics, refit = scoring_refit, \\\n",
    "                             error_score = 0, verbose = 1, n_jobs = -1, return_train_score = True)\n",
    "    '''\n",
    "    If scoring_refit is set you can get the best params on that metric by return.best_params_\n",
    "    Manual inspection can be done by pd.DataFrame(return.cv_results_)\n",
    "    '''\n",
    "    return clf.fit(X,Y)\n",
    "\n",
    "\n",
    "def CV_report (model, X, Y, k_folds, scoring, over_sample = False):\n",
    "    \n",
    "    if over_sample == True:\n",
    "        model= over_sampling(model, X)\n",
    "        \n",
    "    cv_results = cross_validate(model, X, Y, cv= k_folds, scoring= scoring, n_jobs = -1,  verbose = 1, return_train_score = True)\n",
    "    \n",
    "    df = pd.DataFrame(columns = [\"Metric\", \"Train mean\", \"Train SD\", \"Test mean\", \"Test SD\"])\n",
    "    rows_list = []\n",
    "    for x in scoring:\n",
    "        score_dict = {}\n",
    "        score_dict[\"Metric\"] = x\n",
    "        score_dict[\"Train mean\"] = np.mean(cv_results[\"train_\" + x])\n",
    "        score_dict[\"Train SD\"] = np.std(cv_results[\"train_\" + x])\n",
    "        score_dict[\"Test mean\"] = np.mean(cv_results[\"test_\" + x])\n",
    "        score_dict[\"Test SD\"] = np.std(cv_results[\"test_\" + x])  \n",
    "        rows_list.append(score_dict)\n",
    "      \n",
    "    print(df.append(pd.DataFrame(rows_list), sort = False))"
   ]
  },
  {
   "cell_type": "markdown",
   "metadata": {},
   "source": [
    "#### In this cell we apply logistic regression from sklearn as our simple comparison model "
   ]
  },
  {
   "cell_type": "code",
   "execution_count": 140,
   "metadata": {},
   "outputs": [
    {
     "name": "stderr",
     "output_type": "stream",
     "text": [
      "[Parallel(n_jobs=-1)]: Using backend LokyBackend with 4 concurrent workers.\n",
      "[Parallel(n_jobs=-1)]: Done  10 out of  10 | elapsed:    2.8s finished\n",
      "[Parallel(n_jobs=-1)]: Using backend LokyBackend with 4 concurrent workers.\n"
     ]
    },
    {
     "name": "stdout",
     "output_type": "stream",
     "text": [
      "        Metric  Train mean  Train SD  Test mean   Test SD\n",
      "0     accuracy    0.705142  0.011592   0.626292  0.071371\n",
      "1    precision    0.470062  0.014765   0.378463  0.079853\n",
      "2  sensitivity    0.663023  0.017015   0.526667  0.113768\n",
      "3  specificity    0.720853  0.015548   0.662667  0.109001\n",
      "4           f1    0.549955  0.013083   0.433820  0.073843\n",
      "5      roc_auc    0.691938  0.010667   0.594667  0.058927\n",
      "Fitting 10 folds for each of 10 candidates, totalling 100 fits\n"
     ]
    },
    {
     "name": "stderr",
     "output_type": "stream",
     "text": [
      "[Parallel(n_jobs=-1)]: Done  76 tasks      | elapsed:    2.3s\n",
      "[Parallel(n_jobs=-1)]: Done 100 out of 100 | elapsed:    3.0s finished\n",
      "[Parallel(n_jobs=-1)]: Using backend LokyBackend with 4 concurrent workers.\n"
     ]
    },
    {
     "name": "stdout",
     "output_type": "stream",
     "text": [
      "{'C': 7.292090942763562}\n"
     ]
    },
    {
     "name": "stderr",
     "output_type": "stream",
     "text": [
      "[Parallel(n_jobs=-1)]: Done  10 out of  10 | elapsed:    0.3s finished\n",
      "[Parallel(n_jobs=-1)]: Using backend LokyBackend with 4 concurrent workers.\n"
     ]
    },
    {
     "name": "stdout",
     "output_type": "stream",
     "text": [
      "        Metric  Train mean  Train SD  Test mean   Test SD\n",
      "0     accuracy    0.705472  0.012764   0.629323  0.068459\n",
      "1    precision    0.470720  0.016143   0.379414  0.080665\n",
      "2  sensitivity    0.667886  0.018721   0.526667  0.113768\n",
      "3  specificity    0.719485  0.017013   0.667000  0.101603\n",
      "4           f1    0.552053  0.014613   0.435512  0.077711\n",
      "5      roc_auc    0.693686  0.011811   0.596833  0.060760\n",
      "Fitting 10 folds for each of 10 candidates, totalling 100 fits\n"
     ]
    },
    {
     "name": "stderr",
     "output_type": "stream",
     "text": [
      "[Parallel(n_jobs=-1)]: Done  42 tasks      | elapsed:    7.1s\n",
      "[Parallel(n_jobs=-1)]: Done 100 out of 100 | elapsed:   10.3s finished\n",
      "[Parallel(n_jobs=-1)]: Using backend LokyBackend with 4 concurrent workers.\n"
     ]
    },
    {
     "name": "stdout",
     "output_type": "stream",
     "text": [
      "{'C': 7.073504048308861}\n",
      "        Metric  Train mean  Train SD  Test mean   Test SD\n",
      "0     accuracy    0.708547  0.011256   0.666667  0.051282\n",
      "1    precision    0.715014  0.011016   0.676679  0.066367\n",
      "2  sensitivity    0.693429  0.016415   0.639737  0.071485\n",
      "3  specificity    0.723646  0.011191   0.692632  0.070767\n",
      "4           f1    0.704008  0.012872   0.656212  0.060761\n",
      "5      roc_auc    0.708537  0.011277   0.666184  0.051856\n"
     ]
    },
    {
     "name": "stderr",
     "output_type": "stream",
     "text": [
      "[Parallel(n_jobs=-1)]: Done  10 out of  10 | elapsed:    0.5s finished\n"
     ]
    }
   ],
   "source": [
    "from sklearn.linear_model import LogisticRegression\n",
    "\n",
    "clf_log = LogisticRegression(solver = 'lbfgs', class_weight = 'balanced', n_jobs = -1)\n",
    "\n",
    "CV_report(clf_log, train, Y, 10, scoring)\n",
    "\n",
    "param_dist = { 'C' : stats.uniform(0.01, 10)\n",
    "             }\n",
    "\n",
    "results = randomized_tuning(train,Y,clf_log, param_dist, 10, 10, scoring,'sensitivity')\n",
    "params = results.best_params_\n",
    "print(params)\n",
    "clf_log = LogisticRegression(**params,solver = 'lbfgs', class_weight = 'balanced', n_jobs = -1)\n",
    "CV_report(clf_log, train, Y, 10, scoring)\n",
    "\n",
    "new_param_dist = {'logisticregression__' + key: param_dist[key] for key in param_dist}\n",
    "\n",
    "clf_log = LogisticRegression(solver = 'lbfgs', class_weight = 'balanced', n_jobs = -1)\n",
    "results = randomized_tuning(train,Y,clf_log, new_param_dist, 10, 10, scoring,'sensitivity', over_sample = True)\n",
    "params = {key[key.find('_') + 2:]: results.best_params_[key] for key in results.best_params_}\n",
    "print(params)\n",
    "\n",
    "clf_log = LogisticRegression(**params,solver = 'lbfgs', class_weight = 'balanced', n_jobs = -1)\n",
    "CV_report(clf_log,x,y,10,scoring, over_sample = True)"
   ]
  },
  {
   "cell_type": "markdown",
   "metadata": {},
   "source": [
    "#### In this cell we apply random forest from XGBOOST"
   ]
  },
  {
   "cell_type": "code",
   "execution_count": 141,
   "metadata": {},
   "outputs": [
    {
     "name": "stderr",
     "output_type": "stream",
     "text": [
      "[Parallel(n_jobs=-1)]: Using backend LokyBackend with 4 concurrent workers.\n",
      "[Parallel(n_jobs=-1)]: Done  10 out of  10 | elapsed:    3.6s finished\n",
      "[Parallel(n_jobs=-1)]: Using backend LokyBackend with 4 concurrent workers.\n"
     ]
    },
    {
     "name": "stdout",
     "output_type": "stream",
     "text": [
      "        Metric  Train mean  Train SD  Test mean   Test SD\n",
      "0     accuracy    0.908134  0.012792   0.707754  0.083542\n",
      "1    precision    0.783427  0.030409   0.479301  0.146343\n",
      "2  sensitivity    0.916953  0.018832   0.495556  0.126900\n",
      "3  specificity    0.904840  0.016894   0.787333  0.084476\n",
      "4           f1    0.844548  0.019495   0.482675  0.128203\n",
      "5      roc_auc    0.910896  0.011926   0.641444  0.090801\n",
      "Fitting 10 folds for each of 100 candidates, totalling 1000 fits\n"
     ]
    },
    {
     "name": "stderr",
     "output_type": "stream",
     "text": [
      "[Parallel(n_jobs=-1)]: Done  76 tasks      | elapsed:    3.4s\n",
      "[Parallel(n_jobs=-1)]: Done 376 tasks      | elapsed:   13.4s\n",
      "[Parallel(n_jobs=-1)]: Done 876 tasks      | elapsed:   31.3s\n",
      "[Parallel(n_jobs=-1)]: Done 1000 out of 1000 | elapsed:   35.9s finished\n",
      "[Parallel(n_jobs=-1)]: Using backend LokyBackend with 4 concurrent workers.\n"
     ]
    },
    {
     "name": "stdout",
     "output_type": "stream",
     "text": [
      "{'colsample_bynode': 0.6239703772355666, 'max_delta_step': 8.012477751281107, 'max_depth': 3, 'num_parallel_tree': 88, 'subsample': 0.8687042003458154}\n"
     ]
    },
    {
     "name": "stderr",
     "output_type": "stream",
     "text": [
      "[Parallel(n_jobs=-1)]: Done  10 out of  10 | elapsed:    0.1s finished\n",
      "[Parallel(n_jobs=-1)]: Using backend LokyBackend with 4 concurrent workers.\n"
     ]
    },
    {
     "name": "stdout",
     "output_type": "stream",
     "text": [
      "        Metric  Train mean  Train SD  Test mean   Test SD\n",
      "0     accuracy    0.793032  0.023499   0.686988  0.106776\n",
      "1    precision    0.593848  0.040584   0.466248  0.129898\n",
      "2  sensitivity    0.777672  0.038542   0.637778  0.109341\n",
      "3  specificity    0.798701  0.038078   0.705667  0.117583\n",
      "4           f1    0.671854  0.025018   0.534435  0.119081\n",
      "5      roc_auc    0.788187  0.017909   0.671722  0.102421\n",
      "Fitting 10 folds for each of 10 candidates, totalling 100 fits\n"
     ]
    },
    {
     "name": "stderr",
     "output_type": "stream",
     "text": [
      "[Parallel(n_jobs=-1)]: Done  42 tasks      | elapsed:    7.6s\n",
      "[Parallel(n_jobs=-1)]: Done 100 out of 100 | elapsed:   12.2s finished\n"
     ]
    },
    {
     "name": "stdout",
     "output_type": "stream",
     "text": [
      "{'colsample_bynode': 0.9463880041903135, 'max_delta_step': 14.921947823812937, 'max_depth': 4, 'num_parallel_tree': 114, 'subsample': 0.3420383329750662}\n"
     ]
    },
    {
     "name": "stderr",
     "output_type": "stream",
     "text": [
      "[Parallel(n_jobs=-1)]: Using backend LokyBackend with 4 concurrent workers.\n"
     ]
    },
    {
     "name": "stdout",
     "output_type": "stream",
     "text": [
      "        Metric  Train mean  Train SD  Test mean   Test SD\n",
      "0     accuracy    0.838462  0.019699   0.725641  0.065923\n",
      "1    precision    0.819869  0.024849   0.704532  0.073999\n",
      "2  sensitivity    0.868364  0.012201   0.793684  0.067976\n",
      "3  specificity    0.808542  0.030495   0.655789  0.122117\n",
      "4           f1    0.843309  0.017661   0.743716  0.054978\n",
      "5      roc_auc    0.838453  0.019684   0.724737  0.066146\n"
     ]
    },
    {
     "name": "stderr",
     "output_type": "stream",
     "text": [
      "[Parallel(n_jobs=-1)]: Done  10 out of  10 | elapsed:    0.5s finished\n"
     ]
    }
   ],
   "source": [
    "dtrain = xgb.DMatrix(train, label = Y)\n",
    "\n",
    "\n",
    "#Random Forest\n",
    "params = {\n",
    "  'colsample_bynode': 0.8,\n",
    "    'n_estimators' : 1,\n",
    "  'learning_rate': 1,\n",
    "  'max_depth': 5,\n",
    "  'num_parallel_tree': 100,\n",
    "  'objective': 'binary:logistic',\n",
    "  'subsample': 0.8,\n",
    "  'scale_pos_weight' : 2.7\n",
    "}\n",
    "\n",
    "clf_xgb = XGBClassifier(**params)\n",
    "CV_report(clf_xgb, train, Y, 10, scoring)\n",
    "\n",
    "clf_xgb = XGBClassifier(objective = 'binary:logistic', n_estimators = 1, learning_rate = 1, scale_pos_weight = 2.7)\n",
    "param_dist = { 'colsample_bynode': stats.uniform(0.5, 0.45),\n",
    "              'max_depth': [3, 4, 5, 6, 7, 8, 9],             \n",
    "              'subsample': stats.uniform(0.3, 0.6),\n",
    "              'num_parallel_tree': stats.randint(50,200), \n",
    "              'max_delta_step' : stats.uniform(0,15),\n",
    "             }\n",
    "\n",
    "results = randomized_tuning(train,Y,clf_xgb, param_dist, 10, 100, scoring,'sensitivity')\n",
    "params = results.best_params_\n",
    "print(params)\n",
    "\n",
    "clf_xgb = XGBClassifier(**params, objective = 'binary:logistic', n_estimators = 1, learning_rate = 1, scale_pos_weight = 2.7)\n",
    "CV_report(clf_xgb, train, Y, 10, scoring)\n",
    "\n",
    "clf_xgb = XGBClassifier(objective = 'binary:logistic', n_estimators = 1, learning_rate = 1)\n",
    "\n",
    "new_param_dist = {'xgbclassifier__' + key: param_dist[key] for key in param_dist}\n",
    "\n",
    "results = randomized_tuning(train,Y,clf_xgb, new_param_dist, 10, 10, scoring,'sensitivity', over_sample = True)\n",
    "params = {key[key.find('_') + 2:]: results.best_params_[key] for key in results.best_params_}\n",
    "print(params)\n",
    "\n",
    "clf_xgb = XGBClassifier(**params, objective = 'binary:logistic', n_estimators = 1, learning_rate = 1)\n",
    "CV_report(clf_xgb,x,y,10,scoring, over_sample = True)\n",
    "\n",
    "#model_RF = xgb.train(params, dtrain, num_boost_round=1)\n",
    "#xgb.plot_importance(model_RF)\n",
    "#pyplot.show()"
   ]
  },
  {
   "cell_type": "code",
   "execution_count": null,
   "metadata": {},
   "outputs": [],
   "source": [
    "results.best_params_"
   ]
  },
  {
   "cell_type": "markdown",
   "metadata": {},
   "source": [
    "#### In this cell we apply boosted treesfrom XGBOOST"
   ]
  },
  {
   "cell_type": "code",
   "execution_count": null,
   "metadata": {},
   "outputs": [],
   "source": [
    "dtrain = xgb.DMatrix(train, label = Y)\n",
    "\n",
    "#Boosted trees\n",
    "params = {\n",
    "    'n_estimators' : 2,\n",
    "  'learning_rate': 1,\n",
    "  'max_depth': 2,\n",
    "  'objective': 'binary:logistic',\n",
    "    'scale_pos_weight':  2.7\n",
    "}\n",
    "\n",
    "clf_xgb = XGBClassifier(**params)\n",
    "CV_report(clf_xgb, train, Y, 10, scoring)\n",
    "\n",
    "clf_xgb = XGBClassifier(objective = 'binary:logistic', scale_pos_weight = 2.7)\n",
    "param_dist = {'n_estimators': stats.randint(1, 200),\n",
    "              'learning_rate': stats.uniform(0.01, 0.99),\n",
    "              'subsample': stats.uniform(0.3, 0.7),\n",
    "              'max_depth': [1,2,3, 4, 5, 6, 7, 8, 9],\n",
    "              'colsample_bytree': stats.uniform(0.5, 0.45),\n",
    "              'min_child_weight': [1, 2, 3],\n",
    "              'max_delta_step' : stats.uniform(0,15),\n",
    "             }\n",
    "\n",
    "results = randomized_tuning(train,Y,clf_xgb, param_dist, 10, 100, scoring,'sensitivity')\n",
    "params = results.best_params_\n",
    "\n",
    "clf_xgb = XGBClassifier(**params, objective = 'binary:logistic', scale_pos_weight = 2.7)\n",
    "CV_report(clf_xgb, train, Y, 10, scoring)\n",
    "\n",
    "\n",
    "model_RF = xgb.train(params, dtrain, num_boost_round=1)\n",
    "xgb.plot_importance(model_RF)\n",
    "pyplot.show()"
   ]
  },
  {
   "cell_type": "code",
   "execution_count": null,
   "metadata": {},
   "outputs": [],
   "source": [
    "results.best_params_"
   ]
  },
  {
   "cell_type": "markdown",
   "metadata": {},
   "source": [
    "#### In this cell we apply SVM from scikit-learn"
   ]
  },
  {
   "cell_type": "code",
   "execution_count": null,
   "metadata": {},
   "outputs": [],
   "source": [
    "clf1 = svm.SVC(random_state=0, gamma='auto', kernel='rbf')\n",
    "CV_report(clf1, train, Y, 10, scoring)"
   ]
  },
  {
   "cell_type": "code",
   "execution_count": null,
   "metadata": {},
   "outputs": [],
   "source": [
    "clf2 = svm.SVC(random_state=0, gamma='auto', kernel='linear')\n",
    "CV_report(clf2, train, Y, 10, scoring)"
   ]
  },
  {
   "cell_type": "code",
   "execution_count": null,
   "metadata": {},
   "outputs": [],
   "source": []
  },
  {
   "cell_type": "code",
   "execution_count": null,
   "metadata": {},
   "outputs": [],
   "source": []
  }
 ],
 "metadata": {
  "kernelspec": {
   "display_name": "Python 3",
   "language": "python",
   "name": "python3"
  },
  "language_info": {
   "codemirror_mode": {
    "name": "ipython",
    "version": 3
   },
   "file_extension": ".py",
   "mimetype": "text/x-python",
   "name": "python",
   "nbconvert_exporter": "python",
   "pygments_lexer": "ipython3",
   "version": "3.7.0"
  }
 },
 "nbformat": 4,
 "nbformat_minor": 4
}
