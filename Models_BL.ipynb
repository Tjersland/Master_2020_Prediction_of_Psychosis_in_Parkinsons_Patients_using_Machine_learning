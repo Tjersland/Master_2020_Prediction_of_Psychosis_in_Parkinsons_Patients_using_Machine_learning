{
 "cells": [
  {
   "cell_type": "markdown",
   "metadata": {},
   "source": [
    "### Todo"
   ]
  },
  {
   "cell_type": "markdown",
   "metadata": {},
   "source": [
    "#### This cell is for defining various OPTIONS used for this notebook (working directory, how many rows and columns pandas displays for a dataframe, etc). \n",
    "\n",
    "#### Preferably this cell is also where we do important imports (for example pandas and numpy)"
   ]
  },
  {
   "cell_type": "code",
   "execution_count": 10,
   "metadata": {},
   "outputs": [],
   "source": [
    "import os \n",
    "#Input the directory where your joined_data.csv is located \n",
    "#os.chdir('C:/Users/Trond/Documents/Master 2020/Processed data')\n",
    "os.chdir('C:/Users/Briggstone/Documents/Master 2020/Processed data')\n",
    "#os.chdir('C:/Users/MyPC/Documents/Andrijana/UiS/DATMAS Master oppgave/Processed data')\n",
    "\n",
    "#Where you want the csv file of the merged data to be placed\n",
    "output_filepath = 'C:/Users/Briggstone/Documents/Master 2020/Processed data'\n",
    "#output_filepath = 'C:/Users/MyPC/Documents/Andrijana/UiS/DATMAS Master oppgave/Processed data'\n",
    "\n",
    "from matplotlib import pyplot\n",
    "import pandas as pd \n",
    "import numpy as np\n",
    "import xgboost as xgb\n",
    "from sklearn.model_selection import train_test_split\n",
    "from sklearn.model_selection import cross_val_score\n",
    "from sklearn import svm\n",
    "\n",
    "# Set ipython's max row display\n",
    "pd.set_option('display.max_row', 1000)\n",
    "\n",
    "# Set iPython's max column width to 50\n",
    "pd.set_option('display.max_columns', 50)\n"
   ]
  },
  {
   "cell_type": "markdown",
   "metadata": {},
   "source": [
    "#### In this cell we import our training data, convert HALL into HALL_EVER and select only BL observations."
   ]
  },
  {
   "cell_type": "code",
   "execution_count": 11,
   "metadata": {},
   "outputs": [],
   "source": [
    "train = pd.read_csv('train.csv')\n",
    "temptrain = pd.DataFrame(train.PATNO.unique(), columns = [\"PATNO\"])\n",
    "\n",
    "HALL_EVER = []\n",
    "for id in train.PATNO.unique():\n",
    "    if train.loc[(train.PATNO == id) & (train.HALL == 1), \"HALL\"].empty:\n",
    "        HALL_EVER.append(0)\n",
    "    else:\n",
    "        HALL_EVER.append(1)\n",
    "\n",
    "temptrain[\"HALL_EVER\"] = HALL_EVER\n",
    "train.drop(\"HALL\", axis = 1, inplace = True)\n",
    "train = train.merge(temptrain, how = \"inner\", on = \"PATNO\")\n",
    "\n",
    "#Selecting only Baseline observations\n",
    "train = train.loc[train.EVENT_ID == \"BL\", :]\n",
    "\n",
    "#We can then safely drop EVENT_ID and PATNO\n",
    "train.drop([\"EVENT_ID\", \"PATNO\"], axis = 1, inplace = True)\n",
    "\n",
    "# We form Y\n",
    "Y = train.pop(\"HALL_EVER\")"
   ]
  },
  {
   "cell_type": "code",
   "execution_count": 12,
   "metadata": {},
   "outputs": [
    {
     "data": {
      "text/plain": [
       "(293, 21)"
      ]
     },
     "execution_count": 12,
     "metadata": {},
     "output_type": "execute_result"
    }
   ],
   "source": [
    "train.shape"
   ]
  },
  {
   "cell_type": "markdown",
   "metadata": {},
   "source": [
    "#### In this cell we apply random forest from XGBOOST"
   ]
  },
  {
   "cell_type": "code",
   "execution_count": 13,
   "metadata": {},
   "outputs": [
    {
     "name": "stdout",
     "output_type": "stream",
     "text": [
      "   train-error-mean  train-error-std  train-auc-mean  train-auc-std  \\\n",
      "0          0.148643          0.01365        0.928653       0.007044   \n",
      "\n",
      "   train-aucpr-mean  train-aucpr-std  test-error-mean  test-error-std  \\\n",
      "0          0.866624         0.013867         0.251954        0.087703   \n",
      "\n",
      "   test-auc-mean  test-auc-std  test-aucpr-mean  test-aucpr-std  \n",
      "0       0.639569      0.154095         0.498841        0.175736  \n"
     ]
    },
    {
     "data": {
      "image/png": "[encoded data removed]",
      "text/plain": [
       "<Figure size 432x288 with 1 Axes>"
      ]
     },
     "metadata": {
      "needs_background": "light"
     },
     "output_type": "display_data"
    }
   ],
   "source": [
    "dtrain = xgb.DMatrix(train, label = Y)\n",
    "\n",
    "\n",
    "#Random Forest\n",
    "params = {\n",
    "  'colsample_bynode': 0.8,\n",
    "  'learning_rate': 1,\n",
    "  'max_depth': 5,\n",
    "  'num_parallel_tree': 100,\n",
    "  'objective': 'binary:logistic',\n",
    "  'subsample': 0.8,\n",
    "  'tree_method': 'auto'\n",
    "}\n",
    "\n",
    "cv_results_RF = xgb.cv(params, dtrain = dtrain, num_boost_round=1, nfold = 10, as_pandas = True, seed = 1, metrics = [\"error\", \"auc\", \"aucpr\"])\n",
    "print(cv_results_RF)\n",
    "\n",
    "model_RF = xgb.train(params, dtrain, num_boost_round=1)\n",
    "xgb.plot_importance(model_RF)\n",
    "pyplot.show()"
   ]
  },
  {
   "cell_type": "markdown",
   "metadata": {},
   "source": [
    "#### In this cell we apply random forest from XGBOOST"
   ]
  },
  {
   "cell_type": "code",
   "execution_count": 14,
   "metadata": {},
   "outputs": [
    {
     "name": "stdout",
     "output_type": "stream",
     "text": [
      "   train-error-mean  train-error-std  train-auc-mean  train-auc-std  \\\n",
      "0          0.155474         0.010371        0.853375       0.034481   \n",
      "1          0.125904         0.010752        0.921841       0.008933   \n",
      "2          0.108835         0.011115        0.947514       0.011607   \n",
      "3          0.092918         0.009269        0.967275       0.008385   \n",
      "4          0.077732         0.009101        0.982623       0.005848   \n",
      "5          0.067116         0.008092        0.989967       0.005315   \n",
      "6          0.055368         0.008347        0.995145       0.003190   \n",
      "7          0.043991         0.006832        0.997530       0.002159   \n",
      "8          0.034510         0.009506        0.998955       0.001214   \n",
      "9          0.027310         0.007939        0.999418       0.001070   \n",
      "\n",
      "   train-aucpr-mean  train-aucpr-std  test-error-mean  test-error-std  \\\n",
      "0          0.765128         0.031428         0.323793        0.112774   \n",
      "1          0.857191         0.009811         0.279196        0.101635   \n",
      "2          0.901870         0.016018         0.282759        0.092873   \n",
      "3          0.934670         0.011414         0.276322        0.103872   \n",
      "4          0.962428         0.009640         0.272414        0.092677   \n",
      "5          0.978062         0.009335         0.276092        0.074459   \n",
      "6          0.989152         0.005828         0.293218        0.071098   \n",
      "7          0.994117         0.004540         0.293333        0.069984   \n",
      "8          0.997363         0.002892         0.279770        0.077714   \n",
      "9          0.998571         0.002472         0.293448        0.072224   \n",
      "\n",
      "   test-auc-mean  test-auc-std  test-aucpr-mean  test-aucpr-std  \n",
      "0       0.582561      0.159506         0.364124        0.143232  \n",
      "1       0.588732      0.164538         0.394934        0.118468  \n",
      "2       0.624171      0.162680         0.425498        0.162088  \n",
      "3       0.658011      0.178735         0.451140        0.164446  \n",
      "4       0.669140      0.171215         0.463324        0.175957  \n",
      "5       0.641566      0.161874         0.447843        0.153905  \n",
      "6       0.635142      0.144298         0.433152        0.147008  \n",
      "7       0.638697      0.140270         0.456336        0.164621  \n",
      "8       0.631204      0.145988         0.448505        0.159560  \n",
      "9       0.637260      0.138146         0.444956        0.147891  \n"
     ]
    },
    {
     "data": {
      "image/png": "[encoded data removed]",
      "text/plain": [
       "<Figure size 432x288 with 1 Axes>"
      ]
     },
     "metadata": {
      "needs_background": "light"
     },
     "output_type": "display_data"
    }
   ],
   "source": [
    "#Boosted trees\n",
    "params = {\n",
    "  'objective': 'binary:logistic',\n",
    "  'tree_method': 'auto'\n",
    "}\n",
    "\n",
    "cv_results_BT = xgb.cv(params, dtrain = dtrain, num_boost_round=10, nfold = 10, as_pandas = True, seed = 1, metrics = [\"error\", \"auc\", \"aucpr\"])\n",
    "print(cv_results_BT)\n",
    "\n",
    "model_BT = xgb.train(params, dtrain, num_boost_round=10)\n",
    "xgb.plot_importance(model_BT)\n",
    "pyplot.show()"
   ]
  },
  {
   "cell_type": "markdown",
   "metadata": {},
   "source": [
    "#### In this cell we apply SVM from scikit-learn"
   ]
  },
  {
   "cell_type": "code",
   "execution_count": 15,
   "metadata": {},
   "outputs": [
    {
     "data": {
      "text/plain": [
       "array([0.71590909, 0.63636364, 0.44318182, 0.42857143, 0.67857143,\n",
       "       0.66666667, 0.76785714, 0.6547619 , 0.70238095, 0.63690476])"
      ]
     },
     "execution_count": 15,
     "metadata": {},
     "output_type": "execute_result"
    }
   ],
   "source": [
    "clf1 = svm.SVC(random_state=0, gamma='auto', kernel='rbf')\n",
    "roc_auc1 = cross_val_score(clf1, train, Y, cv=10, scoring='roc_auc')\n",
    "roc_auc1"
   ]
  },
  {
   "cell_type": "code",
   "execution_count": 16,
   "metadata": {},
   "outputs": [
    {
     "data": {
      "text/plain": [
       "array([0.73333333, 0.73333333, 0.73333333, 0.72413793, 0.72413793,\n",
       "       0.72413793, 0.75862069, 0.75862069, 0.72413793, 0.75862069])"
      ]
     },
     "execution_count": 16,
     "metadata": {},
     "output_type": "execute_result"
    }
   ],
   "source": [
    "accuracy1 = cross_val_score(clf1, train, Y, cv=10, scoring='accuracy')\n",
    "accuracy1"
   ]
  },
  {
   "cell_type": "code",
   "execution_count": 17,
   "metadata": {},
   "outputs": [
    {
     "data": {
      "text/plain": [
       "array([0.76704545, 0.72159091, 0.47727273, 0.39880952, 0.64285714,\n",
       "       0.60714286, 0.70833333, 0.55952381, 0.75595238, 0.69642857])"
      ]
     },
     "execution_count": 17,
     "metadata": {},
     "output_type": "execute_result"
    }
   ],
   "source": [
    "clf2 = svm.SVC(random_state=0, gamma='auto', kernel='linear')\n",
    "roc_auc2 = cross_val_score(clf2, train, Y, cv=10, scoring='roc_auc')\n",
    "roc_auc2"
   ]
  },
  {
   "cell_type": "code",
   "execution_count": 18,
   "metadata": {},
   "outputs": [
    {
     "data": {
      "text/plain": [
       "array([0.76666667, 0.76666667, 0.7       , 0.65517241, 0.79310345,\n",
       "       0.68965517, 0.79310345, 0.65517241, 0.86206897, 0.75862069])"
      ]
     },
     "execution_count": 18,
     "metadata": {},
     "output_type": "execute_result"
    }
   ],
   "source": [
    "accuracy2 = cross_val_score(clf2, train, Y, cv=10, scoring='accuracy')\n",
    "accuracy2"
   ]
  },
  {
   "cell_type": "code",
   "execution_count": null,
   "metadata": {},
   "outputs": [],
   "source": []
  }
 ],
 "metadata": {
  "kernelspec": {
   "display_name": "Python 3",
   "language": "python",
   "name": "python3"
  },
  "language_info": {
   "codemirror_mode": {
    "name": "ipython",
    "version": 3
   },
   "file_extension": ".py",
   "mimetype": "text/x-python",
   "name": "python",
   "nbconvert_exporter": "python",
   "pygments_lexer": "ipython3",
   "version": "3.7.1"
  }
 },
 "nbformat": 4,
 "nbformat_minor": 4
}
